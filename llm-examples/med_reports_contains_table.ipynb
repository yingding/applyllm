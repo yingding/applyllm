{
 "cells": [
  {
   "cell_type": "code",
   "execution_count": 1,
   "metadata": {},
   "outputs": [],
   "source": [
    "#!pip install pandas\n",
    "#!{sys.executable} -m pip install --user --upgrade tabula-py==2.9.0"
   ]
  },
  {
   "cell_type": "code",
   "execution_count": 2,
   "metadata": {},
   "outputs": [
    {
     "name": "stdout",
     "output_type": "stream",
     "text": [
      "boto3 version 1.34.50\n"
     ]
    }
   ],
   "source": [
    "import boto3, os\n",
    "import pandas as pd\n",
    "import tabula\n",
    "from io import BytesIO\n",
    "from pypdf import PdfReader\n",
    "\n",
    "print(f\"boto3 version {boto3.__version__}\")"
   ]
  },
  {
   "cell_type": "code",
   "execution_count": 3,
   "metadata": {},
   "outputs": [],
   "source": [
    "from applyllm.io import (\n",
    "    S3AccessConf,\n",
    "    S3BucketHelper,\n",
    ")"
   ]
  },
  {
   "cell_type": "code",
   "execution_count": 4,
   "metadata": {},
   "outputs": [],
   "source": [
    "BUCKET_NAME=\"scivias-medreports\"\n",
    "VERIFY_HOST=True\n",
    "pdf_report_prefix=\"KK-SCIVIAS\"\n",
    "# LIMIT_COUNT = -1\n",
    "LIMIT_COUNT = 3"
   ]
  },
  {
   "cell_type": "code",
   "execution_count": 5,
   "metadata": {},
   "outputs": [],
   "source": [
    "s3_conf = S3AccessConf(\n",
    "    access_key_id = os.environ.get('AWS_ACCESS_KEY_ID'),\n",
    "    secret_access_key = os.environ.get('AWS_SECRET_ACCESS_KEY'),\n",
    "    endpoint = os.environ.get('S3_ENDPOINT'),\n",
    "    bucket_name = BUCKET_NAME,\n",
    "    verify_host = VERIFY_HOST,\n",
    ")\n",
    "s3_text_reports_helper = S3BucketHelper(conf=s3_conf, file_prefix=pdf_report_prefix)"
   ]
  },
  {
   "cell_type": "code",
   "execution_count": 6,
   "metadata": {},
   "outputs": [],
   "source": [
    "session = boto3.session.Session(\n",
    "    aws_access_key_id = os.environ.get('AWS_ACCESS_KEY_ID'),\n",
    "    aws_secret_access_key = os.environ.get('AWS_SECRET_ACCESS_KEY')\n",
    ")\n",
    "s3 = session.resource('s3', endpoint_url = os.environ.get('S3_ENDPOINT'), verify=VERIFY_HOST)\n",
    "bucket = s3.Bucket(BUCKET_NAME)"
   ]
  },
  {
   "cell_type": "code",
   "execution_count": 7,
   "metadata": {},
   "outputs": [],
   "source": [
    "# file1 = 'KK-SCIVIAS-00004^0051726752^2015-12-17^KIIS1.pdf' # Contains table\n",
    "# file2 = 'KK-SCIVIAS-00004^0054584394^2021-01-17^KIITCH.pdf' # No table"
   ]
  },
  {
   "cell_type": "code",
   "execution_count": 8,
   "metadata": {},
   "outputs": [],
   "source": [
    "def get_s3_pdf_bytesio(s3, bucket_name, key: str):\n",
    "    obj = s3.Object(bucket_name, key)\n",
    "    return obj.get()['Body'].read()"
   ]
  },
  {
   "cell_type": "code",
   "execution_count": 9,
   "metadata": {},
   "outputs": [],
   "source": [
    "# fs = get_s3_pdf_bytesio(s3=s3, bucket_name=BUCKET_NAME, key=file1)"
   ]
  },
  {
   "cell_type": "markdown",
   "metadata": {},
   "source": [
    "### tabula-py\n",
    "* https://pypi.org/project/tabula-py/\n",
    "* https://community.dataiku.com/t5/Using-Dataiku/read-pdf-with-tabula-on-S3/m-p/38023\n",
    "\n",
    "`tabula-py` has fallback subprocess now, if there is no jpype module to interact with java\n",
    "* https://stackoverflow.com/questions/77077943/pyspark-tabula-py-read-pdf-error-no-module-named-org-apache-commons/77161052#77161052"
   ]
  },
  {
   "cell_type": "code",
   "execution_count": 10,
   "metadata": {},
   "outputs": [],
   "source": [
    "def extract_tables(pdf_bytesio, page_numbers='all', stream=True):\n",
    "    \"\"\"\n",
    "    Extract tables from a PDF and organize the data into a list of combined dictionaries.\n",
    "    \n",
    "    Parameters:\n",
    "    - pdf_path: Path to the PDF file.\n",
    "    - page_numbers: Pages to extract tables from ('all' for all pages).\n",
    "    \n",
    "    Returns:\n",
    "    - A list of dictionaries, each representing combined data from the same column across all tables.\n",
    "    \"\"\"\n",
    "    # Extract all tables from the specified pages of the PDF\n",
    "    # tables is a list of pandas DataFrame\n",
    "    df_list = tabula.read_pdf(pdf_bytesio, pages=page_numbers, multiple_tables=True, pandas_options={'header': None}, stream=stream)\n",
    "    return df_list\n",
    "\n",
    "def contains_table(pdf_bytesio):\n",
    "    df_list = extract_tables(pdf_bytesio, page_numbers='all')\n",
    "    return df_list is not None and len(df_list) > 0\n",
    "    "
   ]
  },
  {
   "cell_type": "code",
   "execution_count": 11,
   "metadata": {},
   "outputs": [],
   "source": [
    "contains_table_map = map(\n",
    "    lambda x: {\n",
    "        \"key\": str(x),\n",
    "        \"contains_table\": contains_table(BytesIO(get_s3_pdf_bytesio(s3, BUCKET_NAME, x)))\n",
    "    }, s3_text_reports_helper.get_object_keys(limit_count=LIMIT_COUNT))"
   ]
  },
  {
   "cell_type": "markdown",
   "metadata": {},
   "source": [
    "### ignore warning\n",
    "* https://stackoverflow.com/questions/14463277/how-to-disable-python-warnings"
   ]
  },
  {
   "cell_type": "code",
   "execution_count": 12,
   "metadata": {
    "scrolled": true
   },
   "outputs": [
    {
     "name": "stderr",
     "output_type": "stream",
     "text": [
      "Error importing jpype dependencies. Fallback to subprocess.\n",
      "No module named 'jpype'\n",
      "Got stderr: Feb 27, 2024 9:46:57 PM org.apache.pdfbox.pdmodel.graphics.color.PDICCBased ensureDisplayProfile\n",
      "WARNING: ICC profile is Perceptual, ignoring, treating as Display class\n",
      "Feb 27, 2024 9:46:57 PM org.apache.pdfbox.pdmodel.graphics.color.PDICCBased ensureDisplayProfile\n",
      "WARNING: ICC profile is Perceptual, ignoring, treating as Display class\n",
      "Feb 27, 2024 9:46:57 PM org.apache.pdfbox.pdmodel.graphics.color.PDICCBased ensureDisplayProfile\n",
      "WARNING: ICC profile is Perceptual, ignoring, treating as Display class\n",
      "Feb 27, 2024 9:46:58 PM org.apache.pdfbox.pdmodel.graphics.color.PDICCBased ensureDisplayProfile\n",
      "WARNING: ICC profile is Perceptual, ignoring, treating as Display class\n",
      "Feb 27, 2024 9:46:58 PM org.apache.pdfbox.pdmodel.graphics.color.PDICCBased ensureDisplayProfile\n",
      "WARNING: ICC profile is Perceptual, ignoring, treating as Display class\n",
      "\n",
      "Got stderr: Feb 27, 2024 9:46:58 PM org.apache.pdfbox.pdmodel.graphics.color.PDICCBased ensureDisplayProfile\n",
      "WARNING: ICC profile is Perceptual, ignoring, treating as Display class\n",
      "Feb 27, 2024 9:46:59 PM org.apache.pdfbox.pdmodel.graphics.color.PDICCBased ensureDisplayProfile\n",
      "WARNING: ICC profile is Perceptual, ignoring, treating as Display class\n",
      "Feb 27, 2024 9:46:59 PM org.apache.pdfbox.pdmodel.graphics.color.PDICCBased ensureDisplayProfile\n",
      "WARNING: ICC profile is Perceptual, ignoring, treating as Display class\n",
      "Feb 27, 2024 9:47:00 PM org.apache.pdfbox.pdmodel.graphics.color.PDICCBased ensureDisplayProfile\n",
      "WARNING: ICC profile is Perceptual, ignoring, treating as Display class\n",
      "Feb 27, 2024 9:47:00 PM org.apache.pdfbox.pdmodel.graphics.color.PDICCBased ensureDisplayProfile\n",
      "WARNING: ICC profile is Perceptual, ignoring, treating as Display class\n",
      "Feb 27, 2024 9:47:00 PM org.apache.pdfbox.pdmodel.graphics.color.PDICCBased ensureDisplayProfile\n",
      "WARNING: ICC profile is Perceptual, ignoring, treating as Display class\n",
      "Feb 27, 2024 9:47:01 PM org.apache.pdfbox.pdmodel.graphics.color.PDICCBased ensureDisplayProfile\n",
      "WARNING: ICC profile is Perceptual, ignoring, treating as Display class\n",
      "Feb 27, 2024 9:47:01 PM org.apache.pdfbox.pdmodel.graphics.color.PDICCBased ensureDisplayProfile\n",
      "WARNING: ICC profile is Perceptual, ignoring, treating as Display class\n",
      "Feb 27, 2024 9:47:01 PM org.apache.pdfbox.pdmodel.graphics.color.PDICCBased ensureDisplayProfile\n",
      "WARNING: ICC profile is Perceptual, ignoring, treating as Display class\n",
      "\n",
      "Got stderr: Feb 27, 2024 9:47:02 PM org.apache.pdfbox.pdmodel.graphics.color.PDICCBased ensureDisplayProfile\n",
      "WARNING: ICC profile is Perceptual, ignoring, treating as Display class\n",
      "Feb 27, 2024 9:47:02 PM org.apache.pdfbox.pdmodel.graphics.color.PDICCBased ensureDisplayProfile\n",
      "WARNING: ICC profile is Perceptual, ignoring, treating as Display class\n",
      "Feb 27, 2024 9:47:02 PM org.apache.pdfbox.pdmodel.graphics.color.PDICCBased ensureDisplayProfile\n",
      "WARNING: ICC profile is Perceptual, ignoring, treating as Display class\n",
      "Feb 27, 2024 9:47:03 PM org.apache.pdfbox.pdmodel.graphics.color.PDICCBased ensureDisplayProfile\n",
      "WARNING: ICC profile is Perceptual, ignoring, treating as Display class\n",
      "Feb 27, 2024 9:47:03 PM org.apache.pdfbox.pdmodel.graphics.color.PDICCBased ensureDisplayProfile\n",
      "WARNING: ICC profile is Perceptual, ignoring, treating as Display class\n",
      "\n"
     ]
    },
    {
     "name": "stdout",
     "output_type": "stream",
     "text": [
      "====================\n",
      "executed: get_results() python function\n",
      "walltime: 6.927331209182739 in secs.\n",
      "====================\n"
     ]
    }
   ],
   "source": [
    "from applyllm.utils import time_func \n",
    "import warnings\n",
    "warnings.filterwarnings(\"ignore\")\n",
    "warnings.filterwarnings(\"ignore\", message=\"ICC profile\")\n",
    "warnings.filterwarnings(\"ignore\", message=\"org.apache.pdfbox\")\n",
    "\n",
    "@time_func\n",
    "def get_results():\n",
    "    return list(contains_table_map)\n",
    "\n",
    "contains_table_dict_list = get_results()\n",
    "\n",
    "# with warnings.catch_warnings():\n",
    "#    warnings.simplefilter(\"ignore\")\n",
    "#    contains_table_dict_list = list(contains_table_map)"
   ]
  },
  {
   "cell_type": "code",
   "execution_count": 13,
   "metadata": {},
   "outputs": [],
   "source": [
    "# contains_table_dict_list"
   ]
  },
  {
   "cell_type": "code",
   "execution_count": 14,
   "metadata": {},
   "outputs": [],
   "source": [
    "key_list = []\n",
    "has_table_list = []\n",
    "for dict in contains_table_dict_list:\n",
    "    key_list.append(dict['key'])\n",
    "    has_table_list.append(dict['contains_table'])"
   ]
  },
  {
   "cell_type": "code",
   "execution_count": 15,
   "metadata": {},
   "outputs": [],
   "source": [
    "import pandas as pd\n",
    "data = {'key': key_list,'contains_table': has_table_list}\n",
    "result_df = pd.DataFrame.from_dict(data)"
   ]
  },
  {
   "cell_type": "code",
   "execution_count": 16,
   "metadata": {},
   "outputs": [],
   "source": [
    "result_df.to_csv(\"./contains_tables.csv\", index=False)"
   ]
  }
 ],
 "metadata": {
  "kernelspec": {
   "display_name": "Python 3 (ipykernel)",
   "language": "python",
   "name": "python3"
  },
  "language_info": {
   "codemirror_mode": {
    "name": "ipython",
    "version": 3
   },
   "file_extension": ".py",
   "mimetype": "text/x-python",
   "name": "python",
   "nbconvert_exporter": "python",
   "pygments_lexer": "ipython3",
   "version": "3.8.10"
  }
 },
 "nbformat": 4,
 "nbformat_minor": 4
}
