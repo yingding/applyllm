{
 "cells": [
  {
   "cell_type": "code",
   "execution_count": 1,
   "id": "34bde0f4-67cd-4a5a-af8c-abf0f89a15f4",
   "metadata": {},
   "outputs": [],
   "source": [
    "import sys"
   ]
  },
  {
   "cell_type": "code",
   "execution_count": 2,
   "id": "c6dec949-64dc-4541-8ddd-c2f85b57002f",
   "metadata": {},
   "outputs": [],
   "source": [
    "#!{sys.executable} -m pip install --upgrade --user -r /home/jovyan/llm-examples/requirements.txt --extra-index-url https://download.pytorch.org/whl/cu118"
   ]
  },
  {
   "cell_type": "code",
   "execution_count": 3,
   "id": "d29a3a8f-0992-45fd-8b92-2febb6d659d5",
   "metadata": {},
   "outputs": [],
   "source": [
    "import applyllm as ap"
   ]
  },
  {
   "cell_type": "code",
   "execution_count": 4,
   "id": "d23ce3d3-d63c-4d4e-8d84-7142d66d19cf",
   "metadata": {},
   "outputs": [
    {
     "name": "stdout",
     "output_type": "stream",
     "text": [
      "Hello from ApplyLlm\n"
     ]
    }
   ],
   "source": [
    "ap.hello()"
   ]
  },
  {
   "cell_type": "code",
   "execution_count": 5,
   "id": "0003cb5d-2144-4d17-9d9c-ca060d3acbf6",
   "metadata": {},
   "outputs": [],
   "source": [
    "# !{sys.executable} -m pip install --upgrade --user kfp==1.8.22"
   ]
  },
  {
   "cell_type": "code",
   "execution_count": 6,
   "id": "f01c1e77-1584-4cc6-80ee-95ea349396f5",
   "metadata": {},
   "outputs": [
    {
     "name": "stdout",
     "output_type": "stream",
     "text": [
      "kubeflow-kindfor\n"
     ]
    }
   ],
   "source": [
    "import kfp\n",
    "from kfp import dsl\n",
    "from functools import partial\n",
    "from kfp.dsl import (\n",
    "    pipeline,\n",
    "    ContainerOp\n",
    ")\n",
    "from kfp.components import (\n",
    "    InputPath,\n",
    "    OutputPath,\n",
    "    create_component_from_func\n",
    ")\n",
    "client = kfp.Client()\n",
    "NAMESPACE = client.get_user_namespace()\n",
    "EXPERIMENT_NAME = 'demo' # Name of the experiment in the KF webapp UI\n",
    "EXPERIMENT_DESC = 'custom package registry test'\n",
    "\n",
    "print(NAMESPACE)"
   ]
  },
  {
   "cell_type": "markdown",
   "id": "6ad4c3ad-805b-444a-8417-46795b4c10db",
   "metadata": {},
   "source": [
    "## Install external package\n",
    "V2 Kubeflow index urls\n",
    "* https://github.com/kubeflow/pipelines/pull/7453\n",
    "\n",
    "V1 Git repo\n",
    "* git+https://github.com/pexpect/pexpect.git@master\n",
    "\n",
    "v1 Git repo raw whl\n",
    "* https://{token}@raw.githubusercontent.com/{user}/{repo}/master/{name.whl}\n",
    "\n",
    "```\n",
    "https://raw.githubusercontent.com/yingding/llm-examples/main/src/dist/applyllm-0.0.1-py3-none-any.whl\n",
    "```\n",
    "\n",
    "we can also see the whl from the private registry\n",
    "```\n",
    "https://gitlab.lrz.de/api/v4/projects/150553/packages/pypi/simple/applyllm\n",
    "```\n",
    "\n",
    "While click on the download link, we will get the download link:\n",
    "```\n",
    "https://gitlab.lrz.de/api/v4/projects/150553/packages/pypi/files/08ee3f757d1190c64bed6791d9da26a10f159287e3a08dcddd5308905bb2d678/applyllm-0.0.1-py3-none-any.whl#sha256=08ee3f757d1190c64bed6791d9da26a10f159287e3a08dcddd5308905bb2d678\n",
    "```\n",
    "\n",
    "we don't need to upload whl to git repo `https://raw.githubusercontent.com/yingding/llm-examples/main/src/dist/applyllm-0.0.1-py3-none-any.whl`\n",
    "\n",
    "Reference:\n",
    "* Install whl https://stackoverflow.com/questions/68848055/pip-installing-a-whl-file-from-a-private-github-repository/68943373#68943373"
   ]
  },
  {
   "cell_type": "code",
   "execution_count": 7,
   "id": "7763edd5-3c2e-44c5-afb1-3983a46d0772",
   "metadata": {},
   "outputs": [],
   "source": [
    "from functools import partial\n",
    "\n",
    "@partial(\n",
    "    create_component_from_func,\n",
    "    output_component_file=f\"custom_registry_component.yaml\",\n",
    "    base_image=\"python:3.10.11\", # use tf base image\n",
    "    packages_to_install=[\n",
    "        \"https://gitlab.lrz.de/api/v4/projects/150553/packages/pypi/files/08ee3f757d1190c64bed6791d9da26a10f159287e3a08dcddd5308905bb2d678/applyllm-0.0.1-py3-none-any.whl#sha256=08ee3f757d1190c64bed6791d9da26a10f159287e3a08dcddd5308905bb2d678\",\n",
    "        # f\"git+https://github.com/yingding/llm-examples.git@main\",\n",
    "        f\"pandas==1.5.3\",\n",
    "    ], # adding additional libs\n",
    "    # pip_index_urls=[\"https://gitlab.lrz.de/api/v4/projects/150553/packages/pypi/simple\"]\n",
    "    # define my private pypi package registry v2 component decorator\n",
    ")\n",
    "def custom_comp():\n",
    "    import applyllm as ap\n",
    "    ap.hello()"
   ]
  },
  {
   "cell_type": "code",
   "execution_count": 8,
   "id": "3d9dc48c-75de-4812-8177-a27b5a414067",
   "metadata": {},
   "outputs": [],
   "source": [
    "def pod_resource_transformer(op: ContainerOp, mem_req=\"200Mi\", cpu_req=\"2000m\", mem_lim=\"4000Mi\", cpu_lim='4000m'):\n",
    "    \"\"\"\n",
    "    this function helps to set the resource limit for container operators\n",
    "    op.set_memory_limit('1000Mi') = 1GB\n",
    "    op.set_cpu_limit('1000m') = 1 cpu core\n",
    "    \"\"\"\n",
    "    return op.set_memory_request(mem_req)\\\n",
    "            .set_memory_limit(mem_lim)\\\n",
    "            .set_cpu_request(cpu_req)\\\n",
    "            .set_cpu_limit(cpu_lim)"
   ]
  },
  {
   "cell_type": "code",
   "execution_count": 9,
   "id": "4a2af7a2-4166-4ac5-84fb-93f24b49bd6a",
   "metadata": {},
   "outputs": [],
   "source": [
    "@pipeline(\n",
    "    name = EXPERIMENT_NAME,\n",
    "    description = EXPERIMENT_DESC\n",
    ")\n",
    "def custom_pipeline(epochs: int):\n",
    "    '''local variable'''\n",
    "    no_artifact_cache = \"P0D\"\n",
    "    artifact_cache_today = \"P1D\"\n",
    "    # cache_setting = artifact_cache_today\n",
    "    cache_setting = no_artifact_cache\n",
    "    \n",
    "    '''pipeline'''   \n",
    "    custom_task = custom_comp()\n",
    "    # 200 MB ram and 1 cpu\n",
    "    custom_task = pod_resource_transformer(custom_task, mem_req=\"500Mi\", cpu_req=\"200m\")\n",
    "    # set the download caching to be 1day, disable caching with P0D\n",
    "    # download_task.execution_options.caching_strategy.max_cache_staleness = artifact_cache_today\n",
    "    custom_task.execution_options.caching_strategy.max_cache_staleness = cache_setting\n",
    "    custom_task.set_display_name(\"install github packages\")"
   ]
  },
  {
   "cell_type": "code",
   "execution_count": 10,
   "id": "739fe18f-2384-4bbb-a9bb-7e284b028903",
   "metadata": {},
   "outputs": [],
   "source": [
    "PIPE_LINE_FILE_NAME=f\"github_package_pipeline\"\n",
    "kfp.compiler.Compiler().compile(custom_pipeline, f\"{PIPE_LINE_FILE_NAME}.yaml\")"
   ]
  },
  {
   "cell_type": "code",
   "execution_count": 11,
   "id": "934304c5-326f-4d67-85d5-9920d1683590",
   "metadata": {},
   "outputs": [],
   "source": [
    "from datetime import datetime\n",
    "from pytz import timezone as ptimezone\n",
    "\n",
    "def get_local_time_str(target_tz_str: str = \"Europe/Berlin\", format_str: str = \"%Y-%m-%d %H-%M-%S\") -> str:\n",
    "    \"\"\"\n",
    "    this method is created since the local timezone is miss configured on the server\n",
    "    @param: target timezone str default \"Europe/Berlin\"\n",
    "    @param: \"%Y-%m-%d %H-%M-%S\" returns 2022-07-07 12-08-45\n",
    "    \"\"\"\n",
    "    target_tz = ptimezone(target_tz_str) # create timezone, in python3.9 use standard lib ZoneInfo\n",
    "    # utc_dt = datetime.now(datetime.timezone.utc)\n",
    "    target_dt = datetime.now(target_tz)\n",
    "    return datetime.strftime(target_dt, format_str)"
   ]
  },
  {
   "cell_type": "code",
   "execution_count": 12,
   "id": "2118ac78-8984-475f-9c0b-d4c530e60ebe",
   "metadata": {},
   "outputs": [],
   "source": [
    "# from kubernetes import client as k8s_client\n",
    "pipeline_config = dsl.PipelineConf()\n",
    "\n",
    "# pipeline_config.set_image_pull_secrets([k8s_client.V1ObjectReference(name=K8_GIT_SECRET_NAME, namespace=NAME_SPACE)])\n",
    "# pipeline_config.set_image_pull_policy(\"Always\")\n",
    "pipeline_config.set_image_pull_policy(\"IfNotPresent\")\n",
    "\n",
    "pipeline_args = {\n",
    "}"
   ]
  },
  {
   "cell_type": "code",
   "execution_count": 13,
   "id": "830b1ac0-ae9f-47e5-8896-1f3c1d7672ba",
   "metadata": {},
   "outputs": [
    {
     "data": {
      "text/html": [
       "<a href=\"/pipeline/#/experiments/details/44688294-d176-4974-a329-d5085422bf76\" target=\"_blank\" >Experiment details</a>."
      ],
      "text/plain": [
       "<IPython.core.display.HTML object>"
      ]
     },
     "metadata": {},
     "output_type": "display_data"
    },
    {
     "data": {
      "text/html": [
       "<a href=\"/pipeline/#/runs/details/7909fd8d-61cc-423a-93f2-b54f7813c7a0\" target=\"_blank\" >Run details</a>."
      ],
      "text/plain": [
       "<IPython.core.display.HTML object>"
      ]
     },
     "metadata": {},
     "output_type": "display_data"
    },
    {
     "data": {
      "text/plain": [
       "RunPipelineResult(run_id=7909fd8d-61cc-423a-93f2-b54f7813c7a0)"
      ]
     },
     "execution_count": 13,
     "metadata": {},
     "output_type": "execute_result"
    }
   ],
   "source": [
    "RUN_NAME = f\"custom package pipeline {get_local_time_str()}\"\n",
    "\n",
    "# client = kfp.Client()\n",
    "run = client.create_run_from_pipeline_func(\n",
    "    pipeline_func=custom_pipeline,\n",
    "    arguments = pipeline_args, #{}\n",
    "    run_name = RUN_NAME,\n",
    "    pipeline_conf=pipeline_config,\n",
    "    experiment_name=EXPERIMENT_NAME,\n",
    "    namespace=NAMESPACE,\n",
    ")\n",
    "\n",
    "run"
   ]
  },
  {
   "cell_type": "code",
   "execution_count": null,
   "id": "41f38559-6dd4-40ad-91f6-85f3df4387ec",
   "metadata": {},
   "outputs": [],
   "source": []
  },
  {
   "cell_type": "code",
   "execution_count": null,
   "id": "4192ac26-d24f-41ca-b726-b9122f53fb6d",
   "metadata": {},
   "outputs": [],
   "source": []
  }
 ],
 "metadata": {
  "kernelspec": {
   "display_name": "Python 3 (ipykernel)",
   "language": "python",
   "name": "python3"
  },
  "language_info": {
   "codemirror_mode": {
    "name": "ipython",
    "version": 3
   },
   "file_extension": ".py",
   "mimetype": "text/x-python",
   "name": "python",
   "nbconvert_exporter": "python",
   "pygments_lexer": "ipython3",
   "version": "3.8.10"
  }
 },
 "nbformat": 4,
 "nbformat_minor": 5
}
