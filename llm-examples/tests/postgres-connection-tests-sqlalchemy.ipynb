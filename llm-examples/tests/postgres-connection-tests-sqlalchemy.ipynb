{
 "cells": [
  {
   "cell_type": "markdown",
   "id": "27edf964",
   "metadata": {},
   "source": [
    "# About this notebook\n",
    "\n",
    "@author: Yingding Wang\\\n",
    "@created: 28.Dec 2023\\\n",
    "@upated: 28.Dec 2023\\\n",
    "@version: 1\n",
    "\n",
    "This notebook demonstrate the use of sqlalchemy client to connect to a postgres db.\n",
    "\n",
    "* postgres client (psycopg): https://www.psycopg.org/\n",
    "* Documentation (psycopg): https://www.psycopg.org/docs/usage.html\n",
    "* Sqlalchemy: https://docs.sqlalchemy.org/en/20/\n",
    "* use sqlalchemy with psycopg (3): https://docs.sqlalchemy.org/en/20/dialects/postgresql.html#module-sqlalchemy.dialects.postgresql.psycopg\n",
    "* https://stackoverflow.com/questions/73596058/creating-an-sqlalchemy-engine-based-on-psycopg3/75885662#75885662"
   ]
  },
  {
   "cell_type": "code",
   "execution_count": 1,
   "id": "17bd7c5d",
   "metadata": {
    "tags": []
   },
   "outputs": [
    {
     "name": "stdout",
     "output_type": "stream",
     "text": [
      "\u001b[33mWARNING: Ignoring invalid distribution -orch (/home/jovyan/.local/lib/python3.8/site-packages)\u001b[0m\u001b[33m\n",
      "\u001b[0m\u001b[33mWARNING: Ignoring invalid distribution -orch (/home/jovyan/.local/lib/python3.8/site-packages)\u001b[0m\u001b[33m\n",
      "\u001b[0mRequirement already satisfied: psycopg[binary]==3.1.16 in /home/jovyan/.local/lib/python3.8/site-packages (3.1.16)\n",
      "Requirement already satisfied: SQLAlchemy==2.0.24 in /home/jovyan/.local/lib/python3.8/site-packages (2.0.24)\n",
      "Requirement already satisfied: python-dotenv==1.0.0 in /home/jovyan/.local/lib/python3.8/site-packages (1.0.0)\n",
      "Requirement already satisfied: typing-extensions>=4.1 in /home/jovyan/.local/lib/python3.8/site-packages (from psycopg[binary]==3.1.16) (4.7.1)\n",
      "Requirement already satisfied: backports.zoneinfo>=0.2.0 in /home/jovyan/.local/lib/python3.8/site-packages (from psycopg[binary]==3.1.16) (0.2.1)\n",
      "Requirement already satisfied: psycopg-binary==3.1.16 in /home/jovyan/.local/lib/python3.8/site-packages (from psycopg[binary]==3.1.16) (3.1.16)\n",
      "Requirement already satisfied: greenlet!=0.4.17 in /home/jovyan/.local/lib/python3.8/site-packages (from SQLAlchemy==2.0.24) (3.0.1)\n",
      "\u001b[33mWARNING: Ignoring invalid distribution -orch (/home/jovyan/.local/lib/python3.8/site-packages)\u001b[0m\u001b[33m\n",
      "\u001b[0m\u001b[33mWARNING: Ignoring invalid distribution -orch (/home/jovyan/.local/lib/python3.8/site-packages)\u001b[0m\u001b[33m\n",
      "\u001b[0m\u001b[33mWARNING: Ignoring invalid distribution -orch (/home/jovyan/.local/lib/python3.8/site-packages)\u001b[0m\u001b[33m\n",
      "\u001b[0m\u001b[33mWARNING: Ignoring invalid distribution -orch (/home/jovyan/.local/lib/python3.8/site-packages)\u001b[0m\u001b[33m\n",
      "\u001b[0m"
     ]
    }
   ],
   "source": [
    "import sys, os\n",
    "# !{sys.executable} -m pip install --upgrade --use-feature=2020-resolver psycopg2-binary 2.9.9 python-dotenv==1.0.0\n",
    "!{sys.executable} -m pip install --user --upgrade psycopg[binary]==3.1.16 SQLAlchemy==2.0.24 python-dotenv==1.0.0"
   ]
  },
  {
   "cell_type": "markdown",
   "id": "fba8b30f",
   "metadata": {},
   "source": [
    "## (Option 1) Edit postgres.env file for DB connection"
   ]
  },
  {
   "cell_type": "code",
   "execution_count": 2,
   "id": "762def83",
   "metadata": {},
   "outputs": [],
   "source": [
    "# ENV_FILE=\"postgres.env\""
   ]
  },
  {
   "cell_type": "markdown",
   "id": "87f33f8f",
   "metadata": {},
   "source": [
    "### Uncomment the following cell and edit with your PostresDB credential to connect to DB"
   ]
  },
  {
   "cell_type": "code",
   "execution_count": 3,
   "id": "33f9f024",
   "metadata": {},
   "outputs": [
    {
     "data": {
      "text/plain": [
       "'\\n%%writefile $ENV_FILE\\n# environment variables for Postgres DB 14.1 \\nDB_HOST=\"Database_Host_DNS_NAME\"\\nDB_NAME=\"Database_Name\"\\nDB_PORT=\"Database_Port\"\\nDB_USER=\"Database_Login_User_Name\"\\nDB_USER_PW=\"Database_Login_Password\"\\n'"
      ]
     },
     "execution_count": 3,
     "metadata": {},
     "output_type": "execute_result"
    }
   ],
   "source": [
    "'''\n",
    "%%writefile $ENV_FILE\n",
    "# environment variables for Postgres DB 14.1 \n",
    "DB_HOST=\"Database_Host_DNS_NAME\"\n",
    "DB_NAME=\"Database_Name\"\n",
    "DB_PORT=\"Database_Port\"\n",
    "DB_USER=\"Database_Login_User_Name\"\n",
    "DB_USER_PW=\"Database_Login_Password\"\n",
    "'''"
   ]
  },
  {
   "cell_type": "code",
   "execution_count": 4,
   "id": "1072e8b8-6635-4bea-8401-57d4e14db660",
   "metadata": {
    "tags": []
   },
   "outputs": [
    {
     "data": {
      "text/plain": [
       "'\\nprint(f\"{os.environ[\\'DB_HOST\\']}\\n{os.environ[\\'DB_NAME\\']}\\n{os.environ[\\'DB_PORT\\']}\\n{os.environ[\\'DB_USER\\']}\\n{os.environ[\\'DB_USER_PW\\']}\\n\")\\n'"
      ]
     },
     "execution_count": 4,
     "metadata": {},
     "output_type": "execute_result"
    }
   ],
   "source": [
    "# from dotenv import load_dotenv\n",
    "# load_dotenv(dotenv_path=\"postgres.env\", override=True)\n",
    "\n",
    "\"\"\"\n",
    "print(f\"\\\n",
    "{os.environ['DB_HOST']}\\n\\\n",
    "{os.environ['DB_NAME']}\\n\\\n",
    "{os.environ['DB_PORT']}\\n\\\n",
    "{os.environ['DB_USER']}\\n\\\n",
    "{os.environ['DB_USER_PW']}\\n\\\n",
    "\")\n",
    "\"\"\""
   ]
  },
  {
   "cell_type": "code",
   "execution_count": 5,
   "id": "c195e211-5f30-4722-b614-127f593f8711",
   "metadata": {
    "tags": []
   },
   "outputs": [],
   "source": [
    "# db_conf_dict = {\n",
    "#     \"dbname\":  os.environ['DB_NAME'],\n",
    "#     \"user\":    os.environ['DB_USER'],\n",
    "#     \"password\":os.environ['DB_USER_PW'],\n",
    "#     \"host\":    os.environ['DB_HOST'],\n",
    "#     \"port\": os.environ['DB_PORT']  \n",
    "# }\n",
    "# print(db_conf_dict)"
   ]
  },
  {
   "cell_type": "markdown",
   "id": "faba5b18-7217-4e47-840e-2ffaa804baec",
   "metadata": {},
   "source": [
    "## (Option 2) Loading credentials from ENV variables\n",
    "The env variables can be injected from Kubeflow PodDefault"
   ]
  },
  {
   "cell_type": "code",
   "execution_count": 6,
   "id": "d4d387a7",
   "metadata": {
    "tags": []
   },
   "outputs": [],
   "source": [
    "'''Uncomment this cell if you are using opton1'''\n",
    "from dataclasses import dataclass\n",
    "import sqlalchemy\n",
    "import psycopg\n",
    "\n",
    "@dataclass\n",
    "class DBConfig:   \n",
    "    # DB_HOST: str = \"\"\n",
    "    # DB_USER: str = \"\"\n",
    "    # DB_USER_PW: str = \"\"\n",
    "    # DB_NAME: str = \"\"\n",
    "    # DB_SCHEMA: str = \"\"\n",
    "    # DB_STAGING_PORT: int = 5432\n",
    "    # DB_ANALYTICS_PORT: int = 5432\n",
    "    \n",
    "\n",
    "    def __post_init__(self):\n",
    "        self.DB_HOST = self._load_env(\"SCIVIAS_DB_HOST\")\n",
    "        self.DB_USER = self._load_env(\"SCIVIAS_DB_USERNAME\")\n",
    "        self.DB_USER_PW = self._load_env(\"SCIVIAS_DB_PASSWORD\")\n",
    "        self.DB_NAME = self._load_env(\"SCIVIAS_DB_NAME\")\n",
    "        self.DB_SCHEMA = self._load_env(\"SCIVIAS_DB_SCHEMA\")\n",
    "        self.DB_STAGING_PORT = self._load_env(\"SCIVIAS_STAGING_DB_PORT\", 5432)\n",
    "        self.DB_ANALYTICS_PORT = self._load_env(\"SCIVIAS_ANALYTICS_DB_PORT\", 5432)\n",
    "    \n",
    "    \n",
    "    @classmethod\n",
    "    def _load_env(clz, key: str, default = \"\"):\n",
    "        return os.environ.get(key, default)\n",
    "    \n",
    "    \n",
    "    def __repr__(self) -> str:\n",
    "        \"\"\"for program and developer obj representation also used by jupyter notebook cell\"\"\"\n",
    "        return f\"{self.DB_HOST}\\n{self.DB_USER}\\n{self.DB_USER_PW}\\n{self.DB_NAME}\\n{self.DB_SCHEMA}\\n{self.DB_STAGING_PORT}\\n{self.DB_ANALYTICS_PORT}\"\n",
    "        \n",
    "    def __str__(self):\n",
    "        \"\"\"for user print() function\"\"\"\n",
    "        return self.__repr__()\n",
    "    \n",
    "    \n",
    "    def to_psycopg_dic(self, is_analytics: True) -> dict:\n",
    "        return {\n",
    "            \"dbname\":  self.DB_NAME,\n",
    "            \"user\":    self.DB_USER,\n",
    "            \"password\": self.DB_USER_PW,\n",
    "            \"host\":     self.DB_HOST,\n",
    "            \"port\":  self.DB_ANALYTICS_PORT if is_analytics else self.DB_STAGING_PORT,   \n",
    "        }\n",
    "    \n",
    "    \n",
    "    def to_sqlalchemy_url(self, is_analytics: True) -> sqlalchemy.engine.url.URL:\n",
    "        return sqlalchemy.URL.create(\n",
    "            drivername=\"postgresql+psycopg\",\n",
    "            username=self.DB_USER,\n",
    "            password=self.DB_USER_PW,  # plain (unescaped) text\n",
    "            host=self.DB_HOST,\n",
    "            database=self.DB_NAME,\n",
    "            port=self.DB_ANALYTICS_PORT if is_analytics else self.DB_STAGING_PORT,\n",
    "        )\n",
    "        \n",
    "\n",
    "    \n",
    "db_conf_obj = DBConfig()\n",
    "# db_conf_dict = db_conf_obj.to_psycopg_dic(is_analytics=True)\n",
    "sqlalchemy_url_obj = db_conf_obj.to_sqlalchemy_url(is_analytics=True) "
   ]
  },
  {
   "cell_type": "markdown",
   "id": "6e5cc190-8b73-4427-8dfb-df82aec6eb70",
   "metadata": {},
   "source": [
    "## Execute SQL with sqlalchemy\n",
    "* https://docs.sqlalchemy.org/en/20/core/engines.html\n",
    "* https://docs.sqlalchemy.org/en/20/dialects/postgresql.html#module-sqlalchemy.dialects.postgresql.psycopg\n",
    "\n",
    "```python\n",
    "# engine = create_engine('postgresql+psycopg://', creator=connector)\n",
    "sync_engine = sqlalchemy.create_engine(\"postgresql+psycopg://\", scott:tiger@localhost/test\")\n",
    "```"
   ]
  },
  {
   "cell_type": "code",
   "execution_count": 7,
   "id": "629d0e52-da55-466b-9421-bc382f36a692",
   "metadata": {},
   "outputs": [],
   "source": [
    "DEBUG=True"
   ]
  },
  {
   "cell_type": "code",
   "execution_count": 8,
   "id": "4bc9153b-1ee1-4be8-81cd-37c229120b9e",
   "metadata": {},
   "outputs": [],
   "source": [
    "# create sync engine with url_object\n",
    "sync_engine = sqlalchemy.create_engine(sqlalchemy_url_obj, echo=DEBUG)"
   ]
  },
  {
   "cell_type": "code",
   "execution_count": 9,
   "id": "9b159733",
   "metadata": {
    "tags": []
   },
   "outputs": [],
   "source": [
    "# create table with name test if not exit\n",
    "# sql1=\"CREATE TABLE IF NOT EXISTS test (id serial PRIMARY KEY, num integer, data varchar);\""
   ]
  },
  {
   "cell_type": "code",
   "execution_count": 10,
   "id": "e056476f",
   "metadata": {
    "tags": []
   },
   "outputs": [],
   "source": [
    "# run_sql(config, sql1)"
   ]
  },
  {
   "cell_type": "markdown",
   "id": "7b0e334f",
   "metadata": {},
   "source": [
    "## Run SQL with results\n",
    "https://docs.sqlalchemy.org/en/20/tutorial/dbapi_transactions.html"
   ]
  },
  {
   "cell_type": "code",
   "execution_count": 11,
   "id": "f625e7d4-c10f-447e-9223-fe65bbf28168",
   "metadata": {
    "tags": []
   },
   "outputs": [],
   "source": [
    "from typing import List, Tuple\n",
    "from collections.abc import Iterable\n",
    "\n",
    "def print_tuple_list(it: Iterable) -> None:\n",
    "    for el in it:\n",
    "        print(*el, sep=\",\") # print tuple\n",
    "        \n",
    "\n",
    "# def run_sql_with_return(engine, sql) -> sqlalchemy.engine.cursor.CursorResult:\n",
    "def run_sql_with_return(engine, sql) -> Iterable:    \n",
    "    with engine.connect() as con:\n",
    "        rs = con.execute(sqlalchemy.text(sql))\n",
    "        # for row in rs:\n",
    "        #     print(row)\n",
    "        return rs"
   ]
  },
  {
   "cell_type": "code",
   "execution_count": 12,
   "id": "368961a2",
   "metadata": {
    "tags": []
   },
   "outputs": [],
   "source": [
    "# https://stackoverflow.com/a/24008869\n",
    "# sql_show_tables=\"select relname from pg_class;\"\n",
    "sql_show_tables=\"select relname from pg_class where relkind='r' and relname !~ '^(pg_|sql_)';\""
   ]
  },
  {
   "cell_type": "code",
   "execution_count": 13,
   "id": "f82d62a5-dd2e-4201-8622-f9fd1047a060",
   "metadata": {
    "tags": []
   },
   "outputs": [
    {
     "name": "stdout",
     "output_type": "stream",
     "text": [
      "2024-01-02 21:40:06,510 INFO sqlalchemy.engine.Engine select pg_catalog.version()\n",
      "2024-01-02 21:40:06,511 INFO sqlalchemy.engine.Engine [raw sql] {}\n",
      "2024-01-02 21:40:06,515 INFO sqlalchemy.engine.Engine select current_schema()\n",
      "2024-01-02 21:40:06,516 INFO sqlalchemy.engine.Engine [raw sql] {}\n",
      "2024-01-02 21:40:06,518 INFO sqlalchemy.engine.Engine show standard_conforming_strings\n",
      "2024-01-02 21:40:06,518 INFO sqlalchemy.engine.Engine [raw sql] {}\n",
      "2024-01-02 21:40:06,525 INFO sqlalchemy.engine.Engine BEGIN (implicit)\n",
      "2024-01-02 21:40:06,526 INFO sqlalchemy.engine.Engine select relname from pg_class where relkind='r' and relname !~ '^(pg_|sql_)';\n",
      "2024-01-02 21:40:06,526 INFO sqlalchemy.engine.Engine [generated in 0.00167s] {}\n",
      "2024-01-02 21:40:06,530 INFO sqlalchemy.engine.Engine ROLLBACK\n",
      "lab_data\n",
      "test_user_report_info\n"
     ]
    }
   ],
   "source": [
    "result = run_sql_with_return(sync_engine, sql_show_tables)\n",
    "print_tuple_list(result)"
   ]
  },
  {
   "cell_type": "code",
   "execution_count": 14,
   "id": "a9cea38c",
   "metadata": {
    "tags": []
   },
   "outputs": [
    {
     "name": "stdout",
     "output_type": "stream",
     "text": [
      "2024-01-02 21:40:06,538 INFO sqlalchemy.engine.Engine BEGIN (implicit)\n",
      "2024-01-02 21:40:06,539 INFO sqlalchemy.engine.Engine select count(*) from lab_data\n",
      "2024-01-02 21:40:06,540 INFO sqlalchemy.engine.Engine [generated in 0.00209s] {}\n",
      "2024-01-02 21:40:06,567 INFO sqlalchemy.engine.Engine ROLLBACK\n",
      "236884\n"
     ]
    }
   ],
   "source": [
    "result = run_sql_with_return(sync_engine, \"select count(*) from lab_data\")\n",
    "print_tuple_list(result)"
   ]
  },
  {
   "cell_type": "markdown",
   "id": "632fb758-d17b-4de5-ab31-2601ec662885",
   "metadata": {},
   "source": [
    "### Create Table\n",
    "* v2 sqlalchemy DeclarativeBase (ORM) https://docs.sqlalchemy.org/en/20/changelog/whatsnew_20.html#whatsnew-20-orm-declarative-typing\n",
    "* v2 sqlalchemy ORM quickstart: https://docs.sqlalchemy.org/en/20/orm/quickstart.html\n",
    "* Create only one table with v2 sqlalchemy ORM: https://stackoverflow.com/questions/19175311/how-to-create-only-one-table-with-sqlalchemy\n",
    "* v2 upsert https://docs.sqlalchemy.org/en/20/changelog/whatsnew_20.html#orm-enabled-insert-upsert-update-and-delete-statements-with-orm-returning\n",
    "\n",
    "V1 sqlalchemy (ORM):\n",
    "* https://www.tutorialspoint.com/sqlalchemy/sqlalchemy_core_creating_table.htm"
   ]
  },
  {
   "cell_type": "code",
   "execution_count": 15,
   "id": "193a7e28-b31c-4955-ac3d-59f8bb90b2b6",
   "metadata": {
    "tags": []
   },
   "outputs": [],
   "source": [
    "from sqlalchemy import String, Integer, MetaData, BigInteger\n",
    "from sqlalchemy.orm import DeclarativeBase\n",
    "from sqlalchemy.orm import mapped_column\n",
    "from sqlalchemy.orm import Mapped\n",
    "#from typing_extensions import Annotated\n",
    "from typing import Optional\n",
    "\n",
    "# str50 = Annotated[str, 50]\n",
    "\n",
    "class Base(DeclarativeBase):\n",
    "    pass\n",
    "    # type_annotation_map = {\n",
    "    #     str50: String(50),\n",
    "    # }\n",
    "\n",
    "class ReportInfo(Base):\n",
    "    __tablename__ = \"test_user_report_info\"\n",
    "    \n",
    "    id: Mapped[str] = mapped_column(String(50), primary_key=True, autoincrement=False)\n",
    "    name: Mapped[str] = mapped_column(String(50))\n",
    "    age: Mapped[int] = mapped_column(Integer)\n",
    "    timestamp: Mapped[int] = mapped_column(BigInteger)\n",
    "    # timestamp: Mapped[int] = mapped_column(Integer)\n",
    "    \n",
    "    def __repr__(self) -> str:\n",
    "        # !r calls repr(self.id) \n",
    "        # https://stackoverflow.com/questions/44800801/in-python-format-f-string-strings-what-does-r-mean\n",
    "        return f\"ReportInfo(id={self.id!r}, name={self.name!r}, age={self.age!r}), timestamp={self.timestamp!r}\"\n",
    "    \n",
    "    def to_dict(self) -> dict:\n",
    "        return {\n",
    "            \"id\": self.id,\n",
    "            \"name\": self.name,\n",
    "            \"age\": self.age,\n",
    "            \"timestamp\": self.timestamp\n",
    "        }\n",
    "\n",
    "# table_str=[ReportInfo.__tablename__]\n",
    "\n",
    "# returns sqlalchemy.Table object\n",
    "table_objects = [ReportInfo.__table__]  "
   ]
  },
  {
   "cell_type": "code",
   "execution_count": 16,
   "id": "3fec3f2b-7a97-40e3-849a-c2b07142e8dc",
   "metadata": {
    "tags": []
   },
   "outputs": [],
   "source": [
    "# Delete table\n",
    "# ReportInfo.__table__.drop(bind=sync_engine, checkfirst=True)"
   ]
  },
  {
   "cell_type": "code",
   "execution_count": 17,
   "id": "8bad5d4a-babc-43de-9550-b6b486924b2e",
   "metadata": {
    "tags": []
   },
   "outputs": [
    {
     "name": "stdout",
     "output_type": "stream",
     "text": [
      "2024-01-02 21:40:06,729 INFO sqlalchemy.engine.Engine BEGIN (implicit)\n",
      "2024-01-02 21:40:06,734 INFO sqlalchemy.engine.Engine SELECT pg_catalog.pg_class.relname \n",
      "FROM pg_catalog.pg_class JOIN pg_catalog.pg_namespace ON pg_catalog.pg_namespace.oid = pg_catalog.pg_class.relnamespace \n",
      "WHERE pg_catalog.pg_class.relname = %(table_name)s::VARCHAR AND pg_catalog.pg_class.relkind = ANY (ARRAY[%(param_1)s::VARCHAR, %(param_2)s::VARCHAR, %(param_3)s::VARCHAR, %(param_4)s::VARCHAR, %(param_5)s::VARCHAR]) AND pg_catalog.pg_table_is_visible(pg_catalog.pg_class.oid) AND pg_catalog.pg_namespace.nspname != %(nspname_1)s::VARCHAR\n",
      "2024-01-02 21:40:06,734 INFO sqlalchemy.engine.Engine [generated in 0.00100s] {'table_name': 'test_user_report_info', 'param_1': 'r', 'param_2': 'p', 'param_3': 'f', 'param_4': 'v', 'param_5': 'm', 'nspname_1': 'pg_catalog'}\n",
      "2024-01-02 21:40:06,739 INFO sqlalchemy.engine.Engine COMMIT\n"
     ]
    }
   ],
   "source": [
    "Base.metadata.create_all(sync_engine, tables=table_objects, checkfirst=True)"
   ]
  },
  {
   "cell_type": "markdown",
   "id": "8747a921-5344-4e14-86ff-4af32f3a5204",
   "metadata": {
    "tags": []
   },
   "source": [
    "### Postgres Upsert\n",
    "* v2 upsert https://docs.sqlalchemy.org/en/20/changelog/whatsnew_20.html#orm-enabled-insert-upsert-update-and-delete-statements-with-orm-returning\n",
    "* https://docs.sqlalchemy.org/en/20/dialects/postgresql.html#postgresql-insert-on-conflict\n",
    "* https://docs.sqlalchemy.org/en/20/changelog/whatsnew_20.html#orm-enabled-insert-upsert-update-and-delete-statements-with-orm-returning\n",
    "* https://docs.sqlalchemy.org/en/20/orm/session_transaction.html#session-level-vs-engine-level-transaction-control\n",
    "* https://docs.sqlalchemy.org/en/20/changelog/whatsnew_20.html#orm-enabled-insert-upsert-update-and-delete-statements-with-orm-returning\n",
    "\n",
    "session.scalars (iterate over objects)\n",
    "* https://docs.sqlalchemy.org/en/20/orm/session_api.html#sqlalchemy.orm.Session.scalarshttps://docs.sqlalchemy.org/en/20/orm/session_api.html#sqlalchemy.orm.Session.scalars"
   ]
  },
  {
   "cell_type": "code",
   "execution_count": 18,
   "id": "c331e08c-3ad0-4ce7-854f-fb466578613c",
   "metadata": {},
   "outputs": [
    {
     "name": "stdout",
     "output_type": "stream",
     "text": [
      "2024-01-02 21:40:06,755 INFO sqlalchemy.engine.Engine BEGIN (implicit)\n",
      "2024-01-02 21:40:06,758 INFO sqlalchemy.engine.Engine INSERT INTO test_user_report_info (id, name, age, timestamp) VALUES (%(id_m0)s::VARCHAR, %(name_m0)s::VARCHAR, %(age_m0)s::INTEGER, %(timestamp_m0)s::BIGINT), (%(id_m1)s::VARCHAR, %(name_m1)s::VARCHAR, %(age_m1)s::INTEGER, %(timestamp_m1)s::BIGINT) ON CONFLICT (id) DO UPDATE SET id = excluded.id, name = excluded.name, age = excluded.age, timestamp = excluded.timestamp RETURNING test_user_report_info.id, test_user_report_info.name, test_user_report_info.age, test_user_report_info.timestamp\n",
      "2024-01-02 21:40:06,759 INFO sqlalchemy.engine.Engine [no key 0.00085s] {'id_m0': 'KK-SCIVIAS-00033^0054643791^2021-02-03^KIIID', 'name_m0': 'test2', 'age_m0': 0, 'timestamp_m0': 1704231606, 'id_m1': 'KK-SCIVIAS-xxxxx^0054643791^2021-02-03^KIIID', 'name_m1': 'test', 'age_m1': -1, 'timestamp_m1': 1704231606}\n",
      "2024-01-02 21:40:06,762 INFO sqlalchemy.engine.Engine COMMIT\n"
     ]
    }
   ],
   "source": [
    "from sqlalchemy.dialects.postgresql import insert as pgsql_upsert\n",
    "from sqlalchemy.orm import sessionmaker\n",
    "from sqlalchemy.orm import Session\n",
    "# from sqlalchemy.dialects.postgresql import func\n",
    "from datetime import datetime\n",
    "import pytz\n",
    "\n",
    "current_time = int(datetime.utcnow().timestamp())\n",
    "# print(type(current_time))\n",
    "# print(current_time)\n",
    "\n",
    "stmt = pgsql_upsert(ReportInfo).values(\n",
    "    [\n",
    "        {\"id\": \"KK-SCIVIAS-00033^0054643791^2021-02-03^KIIID\", \"name\": \"test2\", \"age\": 0, \"timestamp\": current_time},\n",
    "        {\"id\": \"KK-SCIVIAS-xxxxx^0054643791^2021-02-03^KIIID\", \"name\": \"test\", \"age\": -1, \"timestamp\": current_time}\n",
    "    ]\n",
    ")\n",
    "\n",
    "# {\"id\": \"KK-SCIVIAS-00033^0054643791^2021-02-03^KIIID\", \"name\": \"test\", \"age\": -1, \"timestamp\": func.now()}\n",
    "\n",
    "# stmt = pgsql_upsert(ReportInfo).values(timestamp=func.localtimestamp())\n",
    "# my_values = [\n",
    "#         {\"id\": \"KK-SCIVIAS-00033^0054643791^2021-02-03^KIIID\", \"name\": \"test2\", \"age\": 0},\n",
    "#         {\"id\": \"KK-SCIVIAS-xxxxx^0054643791^2021-02-03^KIIID\", \"name\": \"test\", \"age\": -1}\n",
    "# ]\n",
    "\n",
    "# stmt = pgsql_upsert(ReportInfo).values(id=\"KK-SCIVIAS-00033^0054643791^2021-02-03^KIIID\", name=\"test2\", age=0, timestamp=func.localtimestamp())\n",
    "\n",
    "\n",
    "# stmt = stmt.on_conflict_do_update(\n",
    "#      index_elements=[ReportInfo.id], set_=dict(id=stmt.excluded.id)\n",
    "# )\n",
    "\n",
    "stmt = stmt.on_conflict_do_update(constraint = ReportInfo.__table__.primary_key, set_=stmt.excluded)\n",
    "\n",
    "# stmt = stmt.on_conflict_do_update(\n",
    "#      index_elements=[ReportInfo.id], set_=stmt.excluded\n",
    "# )\n",
    "\n",
    "# session = sessionmaker(bind=sync_engine)\n",
    "# with Session() as session: \n",
    "# with Session(sync_engine) as session:\n",
    "# with Session() as session:\n",
    "\n",
    "\n",
    "\"\"\"\n",
    "It is possible to set the expire_on_commit=False for the session to use the ReportInfo object outside the session,\n",
    "but this object will not be bound to session and it get outdated in the other sessions.\n",
    "\n",
    "with Session(sync_engine, expire_on_commit=False) as session:\n",
    "\n",
    "Reference: https://stackoverflow.com/questions/58291247/using-objects-outside-of-the-sessions-scope-in-sqlalchemy\n",
    "\"\"\"\n",
    "# with Session(sync_engine, expire_on_commit=False) as session:\n",
    "with Session(sync_engine) as session:    \n",
    "    # sqlalchemy.engine.result.ScalarResult\n",
    "    result = session.scalars(stmt.returning(ReportInfo))\n",
    "    # result.all() returns a list of ReportInfo objects which is bound to the session\n",
    "    # unpacking the ReportInfo objects to dictionary to use it outside session as copy\n",
    "    elements = [e.to_dict() for e in result.all()]    \n",
    "    session.commit()"
   ]
  },
  {
   "cell_type": "code",
   "execution_count": 19,
   "id": "b37c1247-d3c8-4baa-ae08-68adcd1f7a66",
   "metadata": {},
   "outputs": [
    {
     "name": "stdout",
     "output_type": "stream",
     "text": [
      "[{'id': 'KK-SCIVIAS-00033^0054643791^2021-02-03^KIIID', 'name': 'test2', 'age': 0, 'timestamp': 1704231606}, {'id': 'KK-SCIVIAS-xxxxx^0054643791^2021-02-03^KIIID', 'name': 'test', 'age': -1, 'timestamp': 1704231606}]\n"
     ]
    }
   ],
   "source": [
    "print(elements)"
   ]
  },
  {
   "cell_type": "code",
   "execution_count": 20,
   "id": "a649561b-95ba-41ae-9a7c-582280b9b285",
   "metadata": {
    "tags": []
   },
   "outputs": [
    {
     "name": "stdout",
     "output_type": "stream",
     "text": [
      "1704231606\n",
      "<class 'int'>\n",
      "2024-01-02 22:40:06+01:00\n"
     ]
    }
   ],
   "source": [
    "ts = elements[0].get('timestamp', 0)\n",
    "print(ts)\n",
    "print(type(ts))\n",
    "\n",
    "timezone = pytz.timezone('Europe/Berlin')\n",
    "date_object = datetime.fromtimestamp(ts, tz=timezone)\n",
    "print(date_object)"
   ]
  },
  {
   "cell_type": "code",
   "execution_count": 21,
   "id": "8d5815b0-27ab-484d-aa27-2a492fdeb524",
   "metadata": {
    "tags": []
   },
   "outputs": [
    {
     "name": "stdout",
     "output_type": "stream",
     "text": [
      "2024-01-02 21:40:06\n"
     ]
    }
   ],
   "source": [
    "# UTC+0 time\n",
    "date_object = datetime.fromtimestamp(ts)\n",
    "print(date_object)"
   ]
  },
  {
   "cell_type": "code",
   "execution_count": null,
   "id": "ac74abb6-9163-407a-baac-3e1e00f68581",
   "metadata": {},
   "outputs": [],
   "source": []
  }
 ],
 "metadata": {
  "kernelspec": {
   "display_name": "Python 3 (ipykernel)",
   "language": "python",
   "name": "python3"
  },
  "language_info": {
   "codemirror_mode": {
    "name": "ipython",
    "version": 3
   },
   "file_extension": ".py",
   "mimetype": "text/x-python",
   "name": "python",
   "nbconvert_exporter": "python",
   "pygments_lexer": "ipython3",
   "version": "3.8.10"
  }
 },
 "nbformat": 4,
 "nbformat_minor": 5
}
