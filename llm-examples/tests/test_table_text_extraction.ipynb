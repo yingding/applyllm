{
 "cells": [
  {
   "cell_type": "code",
   "execution_count": 1,
   "metadata": {},
   "outputs": [],
   "source": [
    "import os"
   ]
  },
  {
   "cell_type": "code",
   "execution_count": 2,
   "metadata": {},
   "outputs": [
    {
     "name": "stdout",
     "output_type": "stream",
     "text": [
      "/bin/bash: {sys.executable}: command not found\n"
     ]
    }
   ],
   "source": [
    "#!pip install pandas\n",
    "!{sys.executable} -m pip install --user --upgrade tabula-py==2.9.0"
   ]
  },
  {
   "cell_type": "code",
   "execution_count": 3,
   "metadata": {},
   "outputs": [],
   "source": [
    "import pandas as pd\n",
    "import tabula"
   ]
  },
  {
   "cell_type": "code",
   "execution_count": 4,
   "metadata": {},
   "outputs": [],
   "source": [
    "file1 = 'KK-SCIVIAS-00003^0055176166^2020-12-28^KIITCH.pdf' # Contains table\n",
    "file2 = 'KK-SCIVIAS-00004^0054584394^2021-01-17^KIITCH.pdf' # No table"
   ]
  },
  {
   "cell_type": "code",
   "execution_count": 5,
   "metadata": {},
   "outputs": [],
   "source": [
    "def extract_columns_to_dict(pdf_path, page_numbers='all'):\n",
    "    \"\"\"\n",
    "    Extract tables from a PDF and organize the data into a list of combined dictionaries.\n",
    "    \n",
    "    Parameters:\n",
    "    - pdf_path: Path to the PDF file.\n",
    "    - page_numbers: Pages to extract tables from ('all' for all pages).\n",
    "    \n",
    "    Returns:\n",
    "    - A list of dictionaries, each representing combined data from the same column across all tables.\n",
    "    \"\"\"\n",
    "    # Extract all tables from the specified pages of the PDF\n",
    "    tables = tabula.read_pdf(pdf_path, pages=page_numbers, multiple_tables=True, pandas_options={'header': None})\n",
    "    \n",
    "    # Initialize a list to collect data from each table\n",
    "    collected_data = []\n",
    "\n",
    "    # Iterate through each extracted table\n",
    "    for table in tables:\n",
    "        # Iterate through each row in the current table\n",
    "        for index, row in table.iterrows():\n",
    "            # Skip rows where the first column is NaN\n",
    "            if pd.isna(row[0]):\n",
    "                continue\n",
    "            \n",
    "            # Create a dictionary for the current row, excluding the first column\n",
    "            row_dict = {f\"col{col_idx}\": row[col_idx] for col_idx in range(1, len(row))}\n",
    "            \n",
    "            # Use the value of the first column as the key for the current row's data\n",
    "            collected_data.append({row[0]: row_dict})\n",
    "\n",
    "    if not collected_data:\n",
    "        print(\"No tables found\")\n",
    "        return []\n",
    "\n",
    "    column_keys = next(iter(collected_data[0].values())).keys()\n",
    "    \n",
    "    # Initialize a list for data dictionaries\n",
    "    combined_list = []\n",
    "\n",
    "    # Combine data across the same column from all dictionaries\n",
    "    for key in column_keys:\n",
    "        combined_dict = {d_key: d_val[key] for data in collected_data for d_key, d_val in data.items()}\n",
    "        combined_list.append(combined_dict)\n",
    "    \n",
    "    return combined_list\n"
   ]
  },
  {
   "cell_type": "code",
   "execution_count": 6,
   "metadata": {},
   "outputs": [],
   "source": [
    "# data = extract_columns_to_dict(file1)\n",
    "\n",
    "# for item in data:\n",
    "#     print(item)"
   ]
  },
  {
   "cell_type": "code",
   "execution_count": null,
   "metadata": {},
   "outputs": [],
   "source": []
  }
 ],
 "metadata": {
  "kernelspec": {
   "display_name": "Python 3 (ipykernel)",
   "language": "python",
   "name": "python3"
  },
  "language_info": {
   "codemirror_mode": {
    "name": "ipython",
    "version": 3
   },
   "file_extension": ".py",
   "mimetype": "text/x-python",
   "name": "python",
   "nbconvert_exporter": "python",
   "pygments_lexer": "ipython3",
   "version": "3.8.10"
  }
 },
 "nbformat": 4,
 "nbformat_minor": 4
}
