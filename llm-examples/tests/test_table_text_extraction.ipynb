{
 "cells": [
  {
   "cell_type": "code",
   "execution_count": null,
   "metadata": {},
   "outputs": [],
   "source": [
    "# import sys"
   ]
  },
  {
   "cell_type": "code",
   "execution_count": null,
   "metadata": {},
   "outputs": [],
   "source": [
    "#!pip install pandas\n",
    "#!{sys.executable} -m pip install --user --upgrade tabula-py==2.9.0"
   ]
  },
  {
   "cell_type": "code",
   "execution_count": null,
   "metadata": {},
   "outputs": [],
   "source": [
    "import boto3, os\n",
    "import pandas as pd\n",
    "import tabula\n",
    "from io import BytesIO\n",
    "from pypdf import PdfReader\n",
    "\n",
    "print(f\"boto3 version {boto3.__version__}\")"
   ]
  },
  {
   "cell_type": "code",
   "execution_count": null,
   "metadata": {},
   "outputs": [],
   "source": [
    "BUCKET_NAME=\"scivias-medreports\"\n",
    "VERIFY_HOST=True\n",
    "\n",
    "session = boto3.session.Session(\n",
    "    aws_access_key_id = os.environ.get('AWS_ACCESS_KEY_ID'),\n",
    "    aws_secret_access_key = os.environ.get('AWS_SECRET_ACCESS_KEY')\n",
    ")\n",
    "s3 = session.resource('s3', endpoint_url = os.environ.get('S3_ENDPOINT'), verify=VERIFY_HOST)\n",
    "bucket = s3.Bucket(BUCKET_NAME)"
   ]
  },
  {
   "cell_type": "code",
   "execution_count": null,
   "metadata": {},
   "outputs": [],
   "source": [
    "def get_s3_pdf_bytesio(s3, bucket_name, key: str):\n",
    "    obj = s3.Object(bucket_name, key)\n",
    "    return obj.get()['Body'].read()"
   ]
  },
  {
   "cell_type": "code",
   "execution_count": null,
   "metadata": {},
   "outputs": [],
   "source": [
    "# file1 = 'KK-SCIVIAS-00003^0055176166^2020-12-28^KIITCH.pdf' # do not have this file yet. Contains table\n",
    "file1 = 'KK-SCIVIAS-00004^0051726752^2015-12-17^KIIS1.pdf' # Contains table\n",
    "file2 = 'KK-SCIVIAS-00004^0054584394^2021-01-17^KIITCH.pdf' # No table"
   ]
  },
  {
   "cell_type": "code",
   "execution_count": null,
   "metadata": {},
   "outputs": [],
   "source": [
    "fs = get_s3_pdf_bytesio(s3=s3, bucket_name=BUCKET_NAME, key=file1)"
   ]
  },
  {
   "cell_type": "markdown",
   "metadata": {},
   "source": [
    "### tabula-py\n",
    "* https://pypi.org/project/tabula-py/\n",
    "* https://community.dataiku.com/t5/Using-Dataiku/read-pdf-with-tabula-on-S3/m-p/38023"
   ]
  },
  {
   "cell_type": "code",
   "execution_count": null,
   "metadata": {},
   "outputs": [],
   "source": [
    "def extract_tables(pdf_bytesio, page_numbers='all'):\n",
    "    \"\"\"\n",
    "    Extract tables from a PDF and organize the data into a list of combined dictionaries.\n",
    "    \n",
    "    Parameters:\n",
    "    - pdf_path: Path to the PDF file.\n",
    "    - page_numbers: Pages to extract tables from ('all' for all pages).\n",
    "    \n",
    "    Returns:\n",
    "    - A list of dictionaries, each representing combined data from the same column across all tables.\n",
    "    \"\"\"\n",
    "    # Extract all tables from the specified pages of the PDF\n",
    "    # tables is a list of pandas DataFrame\n",
    "    df_list = tabula.read_pdf(pdf_bytesio, pages=page_numbers, multiple_tables=True, pandas_options={'header': None})\n",
    "    return df_list\n",
    "\n",
    "def contains_table(pdf_bytesio):\n",
    "    df_list = extract_tables(pdf_bytesio, page_numbers='all')\n",
    "    return df_list is not None and len(df_list) > 0\n",
    "    "
   ]
  },
  {
   "cell_type": "code",
   "execution_count": null,
   "metadata": {},
   "outputs": [],
   "source": [
    "output = \"contains table\" if contains_table(BytesIO(fs)) else \"no table\"\n",
    "print(output)"
   ]
  },
  {
   "cell_type": "code",
   "execution_count": null,
   "metadata": {},
   "outputs": [],
   "source": [
    "df_list = extract_tables(BytesIO(fs))\n",
    "\n",
    "for df in df_list:\n",
    "    print(df)"
   ]
  },
  {
   "cell_type": "code",
   "execution_count": null,
   "metadata": {},
   "outputs": [],
   "source": [
    "def extract_columns_to_dict(pdf_bytesio, page_numbers='all'):\n",
    "    \"\"\"\n",
    "    Extract tables from a PDF and organize the data into a list of combined dictionaries.\n",
    "    \n",
    "    Parameters:\n",
    "    - pdf_path: Path to the PDF file.\n",
    "    - page_numbers: Pages to extract tables from ('all' for all pages).\n",
    "    \n",
    "    Returns:\n",
    "    - A list of dictionaries, each representing combined data from the same column across all tables.\n",
    "    \"\"\"\n",
    "    # Extract all tables from the specified pages of the PDF\n",
    "    # tables is a list of pandas DataFrame\n",
    "    tables = tabula.read_pdf(pdf_bytesio, pages=page_numbers, multiple_tables=True, pandas_options={'header': None})\n",
    "    \n",
    "    # Initialize a list to collect data from each table\n",
    "    collected_data = []\n",
    "\n",
    "    # Iterate through each extracted table\n",
    "    for table in tables:\n",
    "        # Iterate through each row in the current table\n",
    "        for index, row in table.iterrows():\n",
    "            # Skip rows where the first column is NaN\n",
    "            if pd.isna(row[0]):\n",
    "                continue\n",
    "            \n",
    "            # Create a dictionary for the current row, excluding the first column\n",
    "            row_dict = {f\"col{col_idx}\": row[col_idx] for col_idx in range(1, len(row))}\n",
    "            \n",
    "            # Use the value of the first column as the key for the current row's data\n",
    "            collected_data.append({row[0]: row_dict})\n",
    "\n",
    "    if not collected_data:\n",
    "        print(\"No tables found\")\n",
    "        return []\n",
    "\n",
    "    column_keys = next(iter(collected_data[0].values())).keys()\n",
    "    \n",
    "    # Initialize a list for data dictionaries\n",
    "    combined_list = []\n",
    "\n",
    "    # Combine data across the same column from all dictionaries\n",
    "    for key in column_keys:\n",
    "        combined_dict = {d_key: d_val[key] for data in collected_data for d_key, d_val in data.items()}\n",
    "        combined_list.append(combined_dict)\n",
    "    \n",
    "    return combined_list, tables\n"
   ]
  },
  {
   "cell_type": "code",
   "execution_count": null,
   "metadata": {},
   "outputs": [],
   "source": [
    "combined_list, df_list = extract_columns_to_dict(BytesIO(fs))\n",
    "\n",
    "for df in df_list:\n",
    "    print(df)"
   ]
  },
  {
   "cell_type": "code",
   "execution_count": null,
   "metadata": {},
   "outputs": [],
   "source": []
  }
 ],
 "metadata": {
  "kernelspec": {
   "display_name": "Python 3 (ipykernel)",
   "language": "python",
   "name": "python3"
  },
  "language_info": {
   "codemirror_mode": {
    "name": "ipython",
    "version": 3
   },
   "file_extension": ".py",
   "mimetype": "text/x-python",
   "name": "python",
   "nbconvert_exporter": "python",
   "pygments_lexer": "ipython3",
   "version": "3.8.10"
  }
 },
 "nbformat": 4,
 "nbformat_minor": 4
}
