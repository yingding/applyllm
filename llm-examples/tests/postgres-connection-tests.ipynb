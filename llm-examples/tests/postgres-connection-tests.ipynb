{
 "cells": [
  {
   "cell_type": "markdown",
   "id": "27edf964",
   "metadata": {},
   "source": [
    "# About this notebook\n",
    "\n",
    "@author: Yingding Wang\\\n",
    "@created: 19.Dec 2023\\\n",
    "@upated: 19.Dec 2023\\\n",
    "@version: 1\n",
    "\n",
    "This notebook demonstrate the use of postgres client to connect to a postgres db.\n",
    "\n",
    "* postgres client (psycopg): https://www.psycopg.org/\n",
    "* Documentation (psycopg): https://www.psycopg.org/docs/usage.html"
   ]
  },
  {
   "cell_type": "code",
   "execution_count": 1,
   "id": "17bd7c5d",
   "metadata": {
    "tags": []
   },
   "outputs": [
    {
     "name": "stdout",
     "output_type": "stream",
     "text": [
      "\u001b[33mWARNING: Ignoring invalid distribution -orch (/home/jovyan/.local/lib/python3.8/site-packages)\u001b[0m\u001b[33m\n",
      "\u001b[0m\u001b[33mWARNING: Ignoring invalid distribution -orch (/home/jovyan/.local/lib/python3.8/site-packages)\u001b[0m\u001b[33m\n",
      "\u001b[0mRequirement already satisfied: psycopg2-binary==2.9.9 in /home/jovyan/.local/lib/python3.8/site-packages (2.9.9)\n",
      "Requirement already satisfied: python-dotenv==1.0.0 in /home/jovyan/.local/lib/python3.8/site-packages (1.0.0)\n",
      "\u001b[33mWARNING: Ignoring invalid distribution -orch (/home/jovyan/.local/lib/python3.8/site-packages)\u001b[0m\u001b[33m\n",
      "\u001b[0m\u001b[33mWARNING: Ignoring invalid distribution -orch (/home/jovyan/.local/lib/python3.8/site-packages)\u001b[0m\u001b[33m\n",
      "\u001b[0m\u001b[33mWARNING: Ignoring invalid distribution -orch (/home/jovyan/.local/lib/python3.8/site-packages)\u001b[0m\u001b[33m\n",
      "\u001b[0m\u001b[33mWARNING: Ignoring invalid distribution -orch (/home/jovyan/.local/lib/python3.8/site-packages)\u001b[0m\u001b[33m\n",
      "\u001b[0m"
     ]
    }
   ],
   "source": [
    "import sys, os\n",
    "# !{sys.executable} -m pip install --upgrade --use-feature=2020-resolver psycopg2-binary 2.9.9 python-dotenv==1.0.0\n",
    "!{sys.executable} -m pip install --user --upgrade psycopg2-binary==2.9.9 python-dotenv==1.0.0"
   ]
  },
  {
   "cell_type": "code",
   "execution_count": 2,
   "id": "5ba73410",
   "metadata": {
    "tags": []
   },
   "outputs": [],
   "source": [
    "import psycopg2\n",
    "from typing import Dict, List, Tuple\n",
    "from psycopg2.extensions import cursor"
   ]
  },
  {
   "cell_type": "markdown",
   "id": "fba8b30f",
   "metadata": {},
   "source": [
    "## (Option 1) Edit postgres.env file for DB connection"
   ]
  },
  {
   "cell_type": "code",
   "execution_count": 3,
   "id": "762def83",
   "metadata": {},
   "outputs": [],
   "source": [
    "# ENV_FILE=\"postgres.env\""
   ]
  },
  {
   "cell_type": "markdown",
   "id": "87f33f8f",
   "metadata": {},
   "source": [
    "### Uncomment the following cell and edit with your PostresDB credential to connect to DB"
   ]
  },
  {
   "cell_type": "code",
   "execution_count": 4,
   "id": "33f9f024",
   "metadata": {},
   "outputs": [
    {
     "data": {
      "text/plain": [
       "'\\n%%writefile $ENV_FILE\\n# environment variables for Postgres DB 14.1 \\nDB_HOST=\"Database_Host_DNS_NAME\"\\nDB_NAME=\"Database_Name\"\\nDB_PORT=\"Database_Port\"\\nDB_USER=\"Database_Login_User_Name\"\\nDB_USER_PW=\"Database_Login_Password\"\\n'"
      ]
     },
     "execution_count": 4,
     "metadata": {},
     "output_type": "execute_result"
    }
   ],
   "source": [
    "'''\n",
    "%%writefile $ENV_FILE\n",
    "# environment variables for Postgres DB 14.1 \n",
    "DB_HOST=\"Database_Host_DNS_NAME\"\n",
    "DB_NAME=\"Database_Name\"\n",
    "DB_PORT=\"Database_Port\"\n",
    "DB_USER=\"Database_Login_User_Name\"\n",
    "DB_USER_PW=\"Database_Login_Password\"\n",
    "'''"
   ]
  },
  {
   "cell_type": "code",
   "execution_count": 5,
   "id": "1072e8b8-6635-4bea-8401-57d4e14db660",
   "metadata": {
    "tags": []
   },
   "outputs": [
    {
     "data": {
      "text/plain": [
       "'\\nprint(f\"{os.environ[\\'DB_HOST\\']}\\n{os.environ[\\'DB_NAME\\']}\\n{os.environ[\\'DB_PORT\\']}\\n{os.environ[\\'DB_USER\\']}\\n{os.environ[\\'DB_USER_PW\\']}\\n\")\\n'"
      ]
     },
     "execution_count": 5,
     "metadata": {},
     "output_type": "execute_result"
    }
   ],
   "source": [
    "# from dotenv import load_dotenv\n",
    "# load_dotenv(dotenv_path=\"postgres.env\", override=True)\n",
    "\n",
    "\"\"\"\n",
    "print(f\"\\\n",
    "{os.environ['DB_HOST']}\\n\\\n",
    "{os.environ['DB_NAME']}\\n\\\n",
    "{os.environ['DB_PORT']}\\n\\\n",
    "{os.environ['DB_USER']}\\n\\\n",
    "{os.environ['DB_USER_PW']}\\n\\\n",
    "\")\n",
    "\"\"\""
   ]
  },
  {
   "cell_type": "code",
   "execution_count": 6,
   "id": "c195e211-5f30-4722-b614-127f593f8711",
   "metadata": {
    "tags": []
   },
   "outputs": [],
   "source": [
    "# db_conf_dict = {\n",
    "#     \"dbname\":  os.environ['DB_NAME'],\n",
    "#     \"user\":    os.environ['DB_USER'],\n",
    "#     \"password\":os.environ['DB_USER_PW'],\n",
    "#     \"host\":    os.environ['DB_HOST'],\n",
    "#     \"port\": os.environ['DB_PORT']  \n",
    "# }\n",
    "# print(db_conf_dict)"
   ]
  },
  {
   "cell_type": "markdown",
   "id": "faba5b18-7217-4e47-840e-2ffaa804baec",
   "metadata": {},
   "source": [
    "## (Option 2) Loading credentials from ENV variables\n",
    "The env variables can be injected from Kubeflow PodDefault"
   ]
  },
  {
   "cell_type": "code",
   "execution_count": 7,
   "id": "d4d387a7",
   "metadata": {
    "tags": []
   },
   "outputs": [],
   "source": [
    "'''Uncomment this cell if you are using opton1'''\n",
    "from dataclasses import dataclass\n",
    "@dataclass\n",
    "class DBConfig:   \n",
    "    # DB_HOST: str = \"\"\n",
    "    # DB_USER: str = \"\"\n",
    "    # DB_USER_PW: str = \"\"\n",
    "    # DB_NAME: str = \"\"\n",
    "    # DB_SCHEMA: str = \"\"\n",
    "    # DB_STAGING_PORT: int = 5432\n",
    "    # DB_ANALYTICS_PORT: int = 5432\n",
    "    \n",
    "\n",
    "    def __post_init__(self):\n",
    "        self.DB_HOST = self._load_env(\"SCIVIAS_DB_HOST\")\n",
    "        self.DB_USER = self._load_env(\"SCIVIAS_DB_USERNAME\")\n",
    "        self.DB_USER_PW = self._load_env(\"SCIVIAS_DB_PASSWORD\")\n",
    "        self.DB_NAME = self._load_env(\"SCIVIAS_DB_NAME\")\n",
    "        self.DB_SCHEMA = self._load_env(\"SCIVIAS_DB_SCHEMA\")\n",
    "        self.DB_STAGING_PORT = self._load_env(\"SCIVIAS_STAGING_DB_PORT\", 5432)\n",
    "        self.DB_ANALYTICS_PORT = self._load_env(\"SCIVIAS_ANALYTICS_DB_PORT\", 5432)\n",
    "    \n",
    "    \n",
    "    @classmethod\n",
    "    def _load_env(clz, key: str, default = \"\"):\n",
    "        return os.environ.get(key, default)\n",
    "    \n",
    "    \n",
    "    def __repr__(self) -> str:\n",
    "        \"\"\"for program and developer obj representation also used by jupyter notebook cell\"\"\"\n",
    "        return f\"{self.DB_HOST}\\n{self.DB_USER}\\n{self.DB_USER_PW}\\n{self.DB_NAME}\\n{self.DB_SCHEMA}\\n{self.DB_STAGING_PORT}\\n{self.DB_ANALYTICS_PORT}\"\n",
    "        \n",
    "    def __str__(self):\n",
    "        \"\"\"for user print() function\"\"\"\n",
    "        return self.__repr__()\n",
    "    \n",
    "    \n",
    "    def to_psycopg_dic(self, is_analytics: True) -> dict:\n",
    "        return {\n",
    "            \"dbname\":  self.DB_NAME,\n",
    "            \"user\":    self.DB_USER,\n",
    "            \"password\": self.DB_USER_PW,\n",
    "            \"host\":     self.DB_HOST,\n",
    "            \"port\":  self.DB_ANALYTICS_PORT if is_analytics else self.DB_STAGING_PORT,   \n",
    "        }\n",
    "\n",
    "    \n",
    "db_conf_obj = DBConfig()\n",
    "db_conf_dict = db_conf_obj.to_psycopg_dic(is_analytics=True)"
   ]
  },
  {
   "cell_type": "code",
   "execution_count": 8,
   "id": "565e3052",
   "metadata": {
    "tags": []
   },
   "outputs": [],
   "source": [
    "def run_sql(config: Dict, sql_statement: str) -> None:\n",
    "    \"\"\"run sql without any return \"\"\"\n",
    "    with psycopg2.connect(**config) as conn:\n",
    "        with conn.cursor() as curs:\n",
    "            try:\n",
    "                curs.execute(sql_statement)\n",
    "            except Exception as cause:\n",
    "                print(f\"{cause}, {type(cause)}\")\n",
    "\n",
    "                \n",
    "# use a function decorator\n",
    "def run_sql_cursor(func):\n",
    "    def inner(config:Dict, sql_statement: str):\n",
    "        with psycopg2.connect(**config) as conn:\n",
    "            with conn.cursor() as curs:\n",
    "                try:\n",
    "                    # print(type(curs))\n",
    "                    return func(config, sql_statement, curs)\n",
    "                except Exception as cause:\n",
    "                    print(f\"{cause}, {type(cause)}\")\n",
    "    return inner\n",
    "\n",
    "\n",
    "@run_sql_cursor\n",
    "def run_sql_with_return(config: Dict, sql_statement: str, curs: cursor=None) -> list:\n",
    "    \"\"\"run sql with result returned as a list of tuple\"\"\"\n",
    "    if (curs is not None):\n",
    "        curs.execute(sql_statement)\n",
    "        # curs.fetchall() get a list of tuple https://www.psycopg.org/docs/cursor.html#cursor.fetchall\n",
    "        result: List[Tuple] = curs.fetchall()\n",
    "        # print list pretty: https://www.geeksforgeeks.org/print-lists-in-python-4-different-ways/    \n",
    "        # for el in result:\n",
    "        #    print(*el, sep=\",\") # print tuple\n",
    "    else:\n",
    "        result: List = [()]\n",
    "    return result\n",
    "\n",
    "\n",
    "def print_tuple_list(list: List[Tuple]) -> None:\n",
    "    for el in list:\n",
    "        print(*el, sep=\",\") # print tuple"
   ]
  },
  {
   "cell_type": "code",
   "execution_count": 9,
   "id": "9b159733",
   "metadata": {
    "tags": []
   },
   "outputs": [],
   "source": [
    "# create table with name test if not exit\n",
    "# sql1=\"CREATE TABLE IF NOT EXISTS test (id serial PRIMARY KEY, num integer, data varchar);\""
   ]
  },
  {
   "cell_type": "code",
   "execution_count": 10,
   "id": "e056476f",
   "metadata": {
    "tags": []
   },
   "outputs": [],
   "source": [
    "# run_sql(config, sql1)"
   ]
  },
  {
   "cell_type": "markdown",
   "id": "7b0e334f",
   "metadata": {},
   "source": [
    "## Run SQL with results"
   ]
  },
  {
   "cell_type": "code",
   "execution_count": 11,
   "id": "368961a2",
   "metadata": {
    "tags": []
   },
   "outputs": [],
   "source": [
    "# https://stackoverflow.com/a/24008869\n",
    "sql_show_tables=\"select relname from pg_class where relkind='r' and relname !~ '^(pg_|sql_)';\""
   ]
  },
  {
   "cell_type": "code",
   "execution_count": 12,
   "id": "bb711aaf",
   "metadata": {
    "tags": []
   },
   "outputs": [
    {
     "name": "stdout",
     "output_type": "stream",
     "text": [
      "lab_data\n",
      "test_user_report_info\n"
     ]
    }
   ],
   "source": [
    "result = run_sql_with_return(db_conf_dict, sql_show_tables)\n",
    "print_tuple_list(result)"
   ]
  },
  {
   "cell_type": "code",
   "execution_count": 13,
   "id": "a9cea38c",
   "metadata": {
    "tags": []
   },
   "outputs": [
    {
     "name": "stdout",
     "output_type": "stream",
     "text": [
      "236884\n"
     ]
    }
   ],
   "source": [
    "result = run_sql_with_return(db_conf_dict, \"select count(*) from lab_data\")\n",
    "print_tuple_list(result)"
   ]
  },
  {
   "cell_type": "code",
   "execution_count": 18,
   "id": "def52218-eaaa-47bc-afc4-112bb22f2b7e",
   "metadata": {},
   "outputs": [
    {
     "name": "stdout",
     "output_type": "stream",
     "text": [
      "2\n"
     ]
    }
   ],
   "source": [
    "stmt_str = \"select count(*) from test_user_report_info\"\n",
    "# stmt_str = \"select * from test_user_report_info\"\n",
    "result = run_sql_with_return(db_conf_dict, stmt_str)\n",
    "print_tuple_list(result)"
   ]
  },
  {
   "cell_type": "code",
   "execution_count": null,
   "id": "44ec09b0-0829-4fd9-b713-6df3bf081adf",
   "metadata": {},
   "outputs": [],
   "source": []
  }
 ],
 "metadata": {
  "kernelspec": {
   "display_name": "Python 3 (ipykernel)",
   "language": "python",
   "name": "python3"
  },
  "language_info": {
   "codemirror_mode": {
    "name": "ipython",
    "version": 3
   },
   "file_extension": ".py",
   "mimetype": "text/x-python",
   "name": "python",
   "nbconvert_exporter": "python",
   "pygments_lexer": "ipython3",
   "version": "3.8.10"
  }
 },
 "nbformat": 4,
 "nbformat_minor": 5
}
