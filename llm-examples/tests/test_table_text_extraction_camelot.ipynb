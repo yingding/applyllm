{
 "cells": [
  {
   "cell_type": "code",
   "execution_count": 3,
   "metadata": {},
   "outputs": [],
   "source": [
    "# import sys"
   ]
  },
  {
   "cell_type": "code",
   "execution_count": 4,
   "metadata": {},
   "outputs": [],
   "source": [
    "# !pip install pandas\n",
    "# !{sys.executable} -m pip install --user --upgrade camelot-py[base]==0.11.0"
   ]
  },
  {
   "cell_type": "code",
   "execution_count": 5,
   "metadata": {},
   "outputs": [
    {
     "name": "stdout",
     "output_type": "stream",
     "text": [
      "boto3 version 1.34.50\n"
     ]
    }
   ],
   "source": [
    "import boto3, os\n",
    "import pandas as pd\n",
    "# import tabula\n",
    "import camelot\n",
    "from io import BytesIO\n",
    "from pypdf import PdfReader\n",
    "\n",
    "print(f\"boto3 version {boto3.__version__}\")"
   ]
  },
  {
   "cell_type": "code",
   "execution_count": 6,
   "metadata": {},
   "outputs": [],
   "source": [
    "BUCKET_NAME=\"scivias-medreports\"\n",
    "VERIFY_HOST=True\n",
    "\n",
    "session = boto3.session.Session(\n",
    "    aws_access_key_id = os.environ.get('AWS_ACCESS_KEY_ID'),\n",
    "    aws_secret_access_key = os.environ.get('AWS_SECRET_ACCESS_KEY')\n",
    ")\n",
    "s3 = session.resource('s3', endpoint_url = os.environ.get('S3_ENDPOINT'), verify=VERIFY_HOST)\n",
    "bucket = s3.Bucket(BUCKET_NAME)"
   ]
  },
  {
   "cell_type": "code",
   "execution_count": 7,
   "metadata": {},
   "outputs": [],
   "source": [
    "def get_s3_pdf_bytesio(s3, bucket_name, key: str):\n",
    "    obj = s3.Object(bucket_name, key)\n",
    "    return obj.get()['Body'].read()"
   ]
  },
  {
   "cell_type": "code",
   "execution_count": 8,
   "metadata": {},
   "outputs": [],
   "source": [
    "# file1 = 'KK-SCIVIAS-00003^0055176166^2020-12-28^KIITCH.pdf' # do not have this file yet. Contains table\n",
    "file1 = 'KK-SCIVIAS-00004^0051726752^2015-12-17^KIIS1.pdf' # Contains table\n",
    "file2 = 'KK-SCIVIAS-00004^0054584394^2021-01-17^KIITCH.pdf' # No table"
   ]
  },
  {
   "cell_type": "code",
   "execution_count": 9,
   "metadata": {},
   "outputs": [],
   "source": [
    "fs = get_s3_pdf_bytesio(s3=s3, bucket_name=BUCKET_NAME, key=file1)"
   ]
  },
  {
   "cell_type": "markdown",
   "metadata": {},
   "source": [
    "### camelot \n",
    "* https://camelot-py.readthedocs.io/en/master/\n",
    "* camelot doesn't support file object, need to write the pdf to local and use camelot."
   ]
  },
  {
   "cell_type": "code",
   "execution_count": 14,
   "metadata": {},
   "outputs": [],
   "source": [
    "def extract_tables(pdf_bytesio, page_numbers='all'):\n",
    "    \"\"\"\n",
    "    Extract tables from a PDF and organize the data into a list of combined dictionaries.\n",
    "    \n",
    "    Parameters:\n",
    "    - pdf_path: Path to the PDF file.\n",
    "    - page_numbers: Pages to extract tables from ('all' for all pages).\n",
    "    \n",
    "    Returns:\n",
    "    - A list of dictionaries, each representing combined data from the same column across all tables.\n",
    "    \"\"\"\n",
    "    # Extract all tables from the specified pages of the PDF\n",
    "    # tables is a list of pandas DataFrame\n",
    "    # df_list = tabula.read_pdf(pdf_bytesio, pages=page_numbers, multiple_tables=True, pandas_options={'header': None})\n",
    "    df_list = camelot.read_pdf(pdf_bytesio, pages=page_numbers)\n",
    "    return df_list\n",
    "\n",
    "def contains_table(pdf_bytesio):\n",
    "    df_list = extract_tables(pdf_bytesio, page_numbers='all')\n",
    "    return df_list is not None and len(df_list) > 0\n",
    "    "
   ]
  },
  {
   "cell_type": "code",
   "execution_count": 15,
   "metadata": {},
   "outputs": [
    {
     "ename": "AttributeError",
     "evalue": "'_io.BytesIO' object has no attribute 'lower'",
     "output_type": "error",
     "traceback": [
      "\u001b[0;31m---------------------------------------------------------------------------\u001b[0m",
      "\u001b[0;31mAttributeError\u001b[0m                            Traceback (most recent call last)",
      "Cell \u001b[0;32mIn[15], line 1\u001b[0m\n\u001b[0;32m----> 1\u001b[0m output \u001b[38;5;241m=\u001b[39m \u001b[38;5;124m\"\u001b[39m\u001b[38;5;124mcontains table\u001b[39m\u001b[38;5;124m\"\u001b[39m \u001b[38;5;28;01mif\u001b[39;00m \u001b[43mcontains_table\u001b[49m\u001b[43m(\u001b[49m\u001b[43mBytesIO\u001b[49m\u001b[43m(\u001b[49m\u001b[43mfs\u001b[49m\u001b[43m)\u001b[49m\u001b[43m)\u001b[49m \u001b[38;5;28;01melse\u001b[39;00m \u001b[38;5;124m\"\u001b[39m\u001b[38;5;124mno table\u001b[39m\u001b[38;5;124m\"\u001b[39m\n\u001b[1;32m      2\u001b[0m \u001b[38;5;28mprint\u001b[39m(output)\n",
      "Cell \u001b[0;32mIn[14], line 19\u001b[0m, in \u001b[0;36mcontains_table\u001b[0;34m(pdf_bytesio)\u001b[0m\n\u001b[1;32m     18\u001b[0m \u001b[38;5;28;01mdef\u001b[39;00m \u001b[38;5;21mcontains_table\u001b[39m(pdf_bytesio):\n\u001b[0;32m---> 19\u001b[0m     df_list \u001b[38;5;241m=\u001b[39m \u001b[43mextract_tables\u001b[49m\u001b[43m(\u001b[49m\u001b[43mpdf_bytesio\u001b[49m\u001b[43m,\u001b[49m\u001b[43m \u001b[49m\u001b[43mpage_numbers\u001b[49m\u001b[38;5;241;43m=\u001b[39;49m\u001b[38;5;124;43m'\u001b[39;49m\u001b[38;5;124;43mall\u001b[39;49m\u001b[38;5;124;43m'\u001b[39;49m\u001b[43m)\u001b[49m\n\u001b[1;32m     20\u001b[0m     \u001b[38;5;28;01mreturn\u001b[39;00m df_list \u001b[38;5;129;01mis\u001b[39;00m \u001b[38;5;129;01mnot\u001b[39;00m \u001b[38;5;28;01mNone\u001b[39;00m \u001b[38;5;129;01mand\u001b[39;00m \u001b[38;5;28mlen\u001b[39m(df_list) \u001b[38;5;241m>\u001b[39m \u001b[38;5;241m0\u001b[39m\n",
      "Cell \u001b[0;32mIn[14], line 15\u001b[0m, in \u001b[0;36mextract_tables\u001b[0;34m(pdf_bytesio, page_numbers)\u001b[0m\n\u001b[1;32m      2\u001b[0m \u001b[38;5;250m\u001b[39m\u001b[38;5;124;03m\"\"\"\u001b[39;00m\n\u001b[1;32m      3\u001b[0m \u001b[38;5;124;03mExtract tables from a PDF and organize the data into a list of combined dictionaries.\u001b[39;00m\n\u001b[1;32m      4\u001b[0m \u001b[38;5;124;03m\u001b[39;00m\n\u001b[0;32m   (...)\u001b[0m\n\u001b[1;32m     10\u001b[0m \u001b[38;5;124;03m- A list of dictionaries, each representing combined data from the same column across all tables.\u001b[39;00m\n\u001b[1;32m     11\u001b[0m \u001b[38;5;124;03m\"\"\"\u001b[39;00m\n\u001b[1;32m     12\u001b[0m \u001b[38;5;66;03m# Extract all tables from the specified pages of the PDF\u001b[39;00m\n\u001b[1;32m     13\u001b[0m \u001b[38;5;66;03m# tables is a list of pandas DataFrame\u001b[39;00m\n\u001b[1;32m     14\u001b[0m \u001b[38;5;66;03m# df_list = tabula.read_pdf(pdf_bytesio, pages=page_numbers, multiple_tables=True, pandas_options={'header': None})\u001b[39;00m\n\u001b[0;32m---> 15\u001b[0m df_list \u001b[38;5;241m=\u001b[39m \u001b[43mcamelot\u001b[49m\u001b[38;5;241;43m.\u001b[39;49m\u001b[43mread_pdf\u001b[49m\u001b[43m(\u001b[49m\u001b[43mpdf_bytesio\u001b[49m\u001b[43m,\u001b[49m\u001b[43m \u001b[49m\u001b[43mpages\u001b[49m\u001b[38;5;241;43m=\u001b[39;49m\u001b[43mpage_numbers\u001b[49m\u001b[43m)\u001b[49m\n\u001b[1;32m     16\u001b[0m \u001b[38;5;28;01mreturn\u001b[39;00m df_list\n",
      "File \u001b[0;32m~/.local/lib/python3.8/site-packages/camelot/io.py:111\u001b[0m, in \u001b[0;36mread_pdf\u001b[0;34m(filepath, pages, password, flavor, suppress_stdout, layout_kwargs, **kwargs)\u001b[0m\n\u001b[1;32m    108\u001b[0m     warnings\u001b[38;5;241m.\u001b[39msimplefilter(\u001b[38;5;124m\"\u001b[39m\u001b[38;5;124mignore\u001b[39m\u001b[38;5;124m\"\u001b[39m)\n\u001b[1;32m    110\u001b[0m validate_input(kwargs, flavor\u001b[38;5;241m=\u001b[39mflavor)\n\u001b[0;32m--> 111\u001b[0m p \u001b[38;5;241m=\u001b[39m \u001b[43mPDFHandler\u001b[49m\u001b[43m(\u001b[49m\u001b[43mfilepath\u001b[49m\u001b[43m,\u001b[49m\u001b[43m \u001b[49m\u001b[43mpages\u001b[49m\u001b[38;5;241;43m=\u001b[39;49m\u001b[43mpages\u001b[49m\u001b[43m,\u001b[49m\u001b[43m \u001b[49m\u001b[43mpassword\u001b[49m\u001b[38;5;241;43m=\u001b[39;49m\u001b[43mpassword\u001b[49m\u001b[43m)\u001b[49m\n\u001b[1;32m    112\u001b[0m kwargs \u001b[38;5;241m=\u001b[39m remove_extra(kwargs, flavor\u001b[38;5;241m=\u001b[39mflavor)\n\u001b[1;32m    113\u001b[0m tables \u001b[38;5;241m=\u001b[39m p\u001b[38;5;241m.\u001b[39mparse(\n\u001b[1;32m    114\u001b[0m     flavor\u001b[38;5;241m=\u001b[39mflavor,\n\u001b[1;32m    115\u001b[0m     suppress_stdout\u001b[38;5;241m=\u001b[39msuppress_stdout,\n\u001b[1;32m    116\u001b[0m     layout_kwargs\u001b[38;5;241m=\u001b[39mlayout_kwargs,\n\u001b[1;32m    117\u001b[0m     \u001b[38;5;241m*\u001b[39m\u001b[38;5;241m*\u001b[39mkwargs\n\u001b[1;32m    118\u001b[0m )\n",
      "File \u001b[0;32m~/.local/lib/python3.8/site-packages/camelot/handlers.py:41\u001b[0m, in \u001b[0;36mPDFHandler.__init__\u001b[0;34m(self, filepath, pages, password)\u001b[0m\n\u001b[1;32m     39\u001b[0m     filepath \u001b[38;5;241m=\u001b[39m download_url(filepath)\n\u001b[1;32m     40\u001b[0m \u001b[38;5;28mself\u001b[39m\u001b[38;5;241m.\u001b[39mfilepath \u001b[38;5;241m=\u001b[39m filepath\n\u001b[0;32m---> 41\u001b[0m \u001b[38;5;28;01mif\u001b[39;00m \u001b[38;5;129;01mnot\u001b[39;00m \u001b[43mfilepath\u001b[49m\u001b[38;5;241;43m.\u001b[39;49m\u001b[43mlower\u001b[49m()\u001b[38;5;241m.\u001b[39mendswith(\u001b[38;5;124m\"\u001b[39m\u001b[38;5;124m.pdf\u001b[39m\u001b[38;5;124m\"\u001b[39m):\n\u001b[1;32m     42\u001b[0m     \u001b[38;5;28;01mraise\u001b[39;00m \u001b[38;5;167;01mNotImplementedError\u001b[39;00m(\u001b[38;5;124m\"\u001b[39m\u001b[38;5;124mFile format not supported\u001b[39m\u001b[38;5;124m\"\u001b[39m)\n\u001b[1;32m     44\u001b[0m \u001b[38;5;28;01mif\u001b[39;00m password \u001b[38;5;129;01mis\u001b[39;00m \u001b[38;5;28;01mNone\u001b[39;00m:\n",
      "\u001b[0;31mAttributeError\u001b[0m: '_io.BytesIO' object has no attribute 'lower'"
     ]
    }
   ],
   "source": [
    "output = \"contains table\" if contains_table(BytesIO(fs)) else \"no table\"\n",
    "print(output)"
   ]
  },
  {
   "cell_type": "code",
   "execution_count": 10,
   "metadata": {},
   "outputs": [],
   "source": [
    "# df_list = extract_tables(BytesIO(fs))\n",
    "\n",
    "# for df in df_list:\n",
    "#     print(df)"
   ]
  },
  {
   "cell_type": "code",
   "execution_count": 11,
   "metadata": {},
   "outputs": [],
   "source": [
    "# def extract_columns_to_dict(pdf_bytesio, page_numbers='all'):\n",
    "#     \"\"\"\n",
    "#     Extract tables from a PDF and organize the data into a list of combined dictionaries.\n",
    "    \n",
    "#     Parameters:\n",
    "#     - pdf_path: Path to the PDF file.\n",
    "#     - page_numbers: Pages to extract tables from ('all' for all pages).\n",
    "    \n",
    "#     Returns:\n",
    "#     - A list of dictionaries, each representing combined data from the same column across all tables.\n",
    "#     \"\"\"\n",
    "#     # Extract all tables from the specified pages of the PDF\n",
    "#     # tables is a list of pandas DataFrame\n",
    "#     tables = tabula.read_pdf(pdf_bytesio, pages=page_numbers, multiple_tables=True, pandas_options={'header': None})\n",
    "    \n",
    "#     # Initialize a list to collect data from each table\n",
    "#     collected_data = []\n",
    "\n",
    "#     # Iterate through each extracted table\n",
    "#     for table in tables:\n",
    "#         # Iterate through each row in the current table\n",
    "#         for index, row in table.iterrows():\n",
    "#             # Skip rows where the first column is NaN\n",
    "#             if pd.isna(row[0]):\n",
    "#                 continue\n",
    "            \n",
    "#             # Create a dictionary for the current row, excluding the first column\n",
    "#             row_dict = {f\"col{col_idx}\": row[col_idx] for col_idx in range(1, len(row))}\n",
    "            \n",
    "#             # Use the value of the first column as the key for the current row's data\n",
    "#             collected_data.append({row[0]: row_dict})\n",
    "\n",
    "#     if not collected_data:\n",
    "#         print(\"No tables found\")\n",
    "#         return []\n",
    "\n",
    "#     column_keys = next(iter(collected_data[0].values())).keys()\n",
    "    \n",
    "#     # Initialize a list for data dictionaries\n",
    "#     combined_list = []\n",
    "\n",
    "#     # Combine data across the same column from all dictionaries\n",
    "#     for key in column_keys:\n",
    "#         combined_dict = {d_key: d_val[key] for data in collected_data for d_key, d_val in data.items()}\n",
    "#         combined_list.append(combined_dict)\n",
    "    \n",
    "#     return combined_list, tables\n"
   ]
  },
  {
   "cell_type": "code",
   "execution_count": 12,
   "metadata": {},
   "outputs": [],
   "source": [
    "# combined_list, df_list = extract_columns_to_dict(BytesIO(fs))\n",
    "\n",
    "# for df in df_list:\n",
    "#     print(df)"
   ]
  }
 ],
 "metadata": {
  "kernelspec": {
   "display_name": "Python 3 (ipykernel)",
   "language": "python",
   "name": "python3"
  },
  "language_info": {
   "codemirror_mode": {
    "name": "ipython",
    "version": 3
   },
   "file_extension": ".py",
   "mimetype": "text/x-python",
   "name": "python",
   "nbconvert_exporter": "python",
   "pygments_lexer": "ipython3",
   "version": "3.8.10"
  }
 },
 "nbformat": 4,
 "nbformat_minor": 4
}
