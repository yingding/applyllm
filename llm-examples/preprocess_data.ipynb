{
 "cells": [
  {
   "cell_type": "markdown",
   "id": "f04bcc16-6879-4c01-ac33-8b578f7142fc",
   "metadata": {},
   "source": [
    "## Intro\n",
    "\n",
    "Extract text from a PDF file\n",
    "* pypdf https://pypdf.readthedocs.io/en/stable/user/extract-text.html\n",
    "* list file: https://pynative.com/python-list-files-in-a-directory/"
   ]
  },
  {
   "cell_type": "code",
   "execution_count": 8,
   "id": "1f77e406-9c18-4485-b614-fd87d4d3f6b6",
   "metadata": {},
   "outputs": [],
   "source": [
    "import sys, os, glob"
   ]
  },
  {
   "cell_type": "code",
   "execution_count": 5,
   "id": "1bd7a918-a111-4029-bdb4-8b16e1e726c8",
   "metadata": {},
   "outputs": [
    {
     "name": "stdout",
     "output_type": "stream",
     "text": [
      "Requirement already satisfied: pypdf==3.15.5 in /opt/conda/lib/python3.8/site-packages (3.15.5)\n",
      "Requirement already satisfied: typing_extensions>=3.7.4.3 in /home/jovyan/.local/lib/python3.8/site-packages (from pypdf==3.15.5) (4.7.1)\n"
     ]
    }
   ],
   "source": [
    "!{sys.executable} -m pip install pypdf==3.15.5"
   ]
  },
  {
   "cell_type": "code",
   "execution_count": 14,
   "id": "586492da-5893-4878-92cf-55cbb6a481ef",
   "metadata": {},
   "outputs": [
    {
     "name": "stdout",
     "output_type": "stream",
     "text": [
      "['./data/medreports/KK-SCIVIAS-00004-0051726752-2015-12-17.pdf', './data/medreports/KK-SCIVIAS-00004-0054584394-2021-01-17.pdf']\n"
     ]
    }
   ],
   "source": [
    "DATA_ROOT = \"./data/medreports\"\n",
    "\n",
    "# os.listdir will show all files include .ipynb_checkpoints\n",
    "# print(os.listdir(DATA_ROOT))\n",
    "\n",
    "# use glob path pattern to filter pdf files\n",
    "dir_path = f\"{DATA_ROOT}/KK-SCIVIAS-*.pdf\"\n",
    "file_path_list = glob.glob(dir_path)\n",
    "print(file_path_list)"
   ]
  },
  {
   "cell_type": "code",
   "execution_count": 24,
   "id": "ef948a08-33e2-40c4-9052-011ecf4586d2",
   "metadata": {},
   "outputs": [],
   "source": [
    "from pypdf import PdfReader\n",
    "\n",
    "def read_pdf(file_path: str) -> str:\n",
    "    \"\"\"read from the give path the text and returns a raw string. use print to print the content\n",
    "    \"\"\"\n",
    "    reader = PdfReader(file_path)\n",
    "    content_raw_str = \"\".join([page.extract_text() for page in reader.pages])\n",
    "    return content_raw_str\n",
    "# print(content_str)"
   ]
  },
  {
   "cell_type": "code",
   "execution_count": 32,
   "id": "03bf4ff0-ab66-447a-809b-58364e210752",
   "metadata": {},
   "outputs": [],
   "source": [
    "def count_token(file_path: str)-> int:\n",
    "    \"\"\"count the total token in a pdf file\n",
    "    \"\"\"\n",
    "    token_size = len(read_pdf(file_path))\n",
    "    print(f\"file: {file_path}\\n\" + \n",
    "          f\"total token: {token_size}\")\n",
    "    return token_size"
   ]
  },
  {
   "cell_type": "code",
   "execution_count": 33,
   "id": "3a33ac0d-713a-431e-b7bd-524688458f56",
   "metadata": {},
   "outputs": [
    {
     "name": "stdout",
     "output_type": "stream",
     "text": [
      "file: ./data/medreports/KK-SCIVIAS-00004-0051726752-2015-12-17.pdf\n",
      "total token: 17545\n",
      "file: ./data/medreports/KK-SCIVIAS-00004-0054584394-2021-01-17.pdf\n",
      "total token: 7442\n"
     ]
    }
   ],
   "source": [
    "for file_path in file_path_list:\n",
    "    count_token(file_path)"
   ]
  },
  {
   "cell_type": "code",
   "execution_count": null,
   "id": "f2a096c9-ded3-4b27-a9da-8d2db19adcaf",
   "metadata": {},
   "outputs": [],
   "source": []
  }
 ],
 "metadata": {
  "kernelspec": {
   "display_name": "Python 3 (ipykernel)",
   "language": "python",
   "name": "python3"
  },
  "language_info": {
   "codemirror_mode": {
    "name": "ipython",
    "version": 3
   },
   "file_extension": ".py",
   "mimetype": "text/x-python",
   "name": "python",
   "nbconvert_exporter": "python",
   "pygments_lexer": "ipython3",
   "version": "3.8.10"
  }
 },
 "nbformat": 4,
 "nbformat_minor": 5
}
