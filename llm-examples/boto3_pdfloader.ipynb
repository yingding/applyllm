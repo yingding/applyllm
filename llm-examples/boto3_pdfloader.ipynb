{
 "cells": [
  {
   "cell_type": "markdown",
   "id": "b80b5e04-2584-4ee1-9f57-cca4f2915b33",
   "metadata": {},
   "source": [
    "# Introduction\n",
    "\n",
    "Auther: Yingding Wang\\\n",
    "Created: 15.11.2023\n",
    "\n",
    "this notebook introduces load a pdf file from s3 bucket with boto3 and ByteIO stream with `pypdf.PdfReader`.\n",
    "\n",
    "* Boto3 client doc: https://boto3.amazonaws.com/v1/documentation/api/latest/reference/services/s3.html#S3.Client.list_objects\n",
    "* S3 bucket doesn't have folder, but prefix https://stackoverflow.com/questions/51303609/python-recursive-glob-in-s3/51303951#51303951\n",
    "* Boto3 latest pypi version https://pypi.org/project/boto3/\n",
    "\n",
    "### show ENV variables of the pod\n",
    "```python\n",
    "import os\n",
    "print(os.environ)\n",
    "```\n",
    "or\n",
    "```\n",
    "!env\n",
    "```\n",
    "\n",
    "### PdfReader with BytesIO\n",
    "* https://stackoverflow.com/questions/48373967/issue-with-pypdf2-and-decoding-pdf-file-from-s3\n",
    "\n"
   ]
  },
  {
   "cell_type": "code",
   "execution_count": 1,
   "id": "c69b1794-b45a-462b-aa1d-6c7ad4dfe1d5",
   "metadata": {},
   "outputs": [
    {
     "name": "stdout",
     "output_type": "stream",
     "text": [
      "applyllm version: 0.0.4\n"
     ]
    }
   ],
   "source": [
    "import sys, os, applyllm\n",
    "\n",
    "print(f\"applyllm version: {applyllm.__version__}\")"
   ]
  },
  {
   "cell_type": "code",
   "execution_count": 2,
   "id": "f7e09db4-e74a-4dc3-802a-bc1d93cdee10",
   "metadata": {},
   "outputs": [],
   "source": [
    "# Installing collected packages: jmespath, botocore, s3transfer, boto3\n",
    "# !{sys.executable} -m pip install --user --upgrade boto3==1.29.0"
   ]
  },
  {
   "cell_type": "markdown",
   "id": "33c31ace-e2f0-4a7d-adc8-6f1583edcb69",
   "metadata": {},
   "source": [
    "## s3 has no regex ListObjects\n",
    "\n",
    "s3 list objects with prefix only\n",
    "https://stackoverflow.com/questions/62379936/searching-for-keys-in-a-s3-bucket-with-prefix-suffix-or-regex\n"
   ]
  },
  {
   "cell_type": "markdown",
   "id": "e4eb53a9-4212-42eb-9baa-88daa88e02e0",
   "metadata": {},
   "source": [
    "### Read translated Text files"
   ]
  },
  {
   "cell_type": "code",
   "execution_count": 3,
   "id": "4e93ff14-3b6d-42e0-b704-cc71a81e9090",
   "metadata": {},
   "outputs": [],
   "source": [
    "from applyllm.io import (\n",
    "    S3AccessConf,\n",
    "    S3BucketHelper,\n",
    ")\n",
    "\n",
    "BUCKET_NAME=\"scivias-medreports\"\n",
    "VERIFY_HOST=True"
   ]
  },
  {
   "cell_type": "code",
   "execution_count": 4,
   "id": "ba903524-ee90-4fc0-a0be-a37f4214bafe",
   "metadata": {},
   "outputs": [
    {
     "data": {
      "text/plain": [
       "'trans2en/KK-SCIVIAS'"
      ]
     },
     "execution_count": 4,
     "metadata": {},
     "output_type": "execute_result"
    }
   ],
   "source": [
    "# pattern=\"trans3en/KK-SCIVIAS-*.txt\"\n",
    "subfolder=\"trans2en\"\n",
    "file_prefix=\"KK-SCIVIAS\"\n",
    "text_report_prefix = f\"{subfolder}/{file_prefix}\"\n",
    "text_report_prefix"
   ]
  },
  {
   "cell_type": "code",
   "execution_count": 5,
   "id": "ba47f9f7-bed4-4699-8a18-65aed1a64e57",
   "metadata": {},
   "outputs": [],
   "source": [
    "s3_conf = S3AccessConf(\n",
    "    access_key_id = os.environ.get('AWS_ACCESS_KEY_ID'),\n",
    "    secret_access_key = os.environ.get('AWS_SECRET_ACCESS_KEY'),\n",
    "    endpoint = os.environ.get('S3_ENDPOINT'),\n",
    "    bucket_name = BUCKET_NAME,\n",
    "    verify_host = VERIFY_HOST,\n",
    ")\n",
    "s3_text_reports_helper = S3BucketHelper(conf=s3_conf, file_prefix=text_report_prefix)"
   ]
  },
  {
   "cell_type": "code",
   "execution_count": 6,
   "id": "95933881-46ba-42e6-85ab-77ead9910729",
   "metadata": {},
   "outputs": [],
   "source": [
    "limit_count = 2\n",
    "text_report_list = list(s3_text_reports_helper.get_object_keys(limit_count=limit_count))"
   ]
  },
  {
   "cell_type": "code",
   "execution_count": 7,
   "id": "8a6b72b4-35b3-4427-9e2c-a2044d93fa63",
   "metadata": {},
   "outputs": [
    {
     "data": {
      "text/plain": [
       "['trans2en/KK-SCIVIAS-00003^0053360847^2018-09-28^KIIGAS.txt',\n",
       " 'trans2en/KK-SCIVIAS-00004^0051726752^2015-12-17^KIIS1.txt']"
      ]
     },
     "execution_count": 7,
     "metadata": {},
     "output_type": "execute_result"
    }
   ],
   "source": [
    "text_report_list"
   ]
  },
  {
   "cell_type": "markdown",
   "id": "7f00f8cd-641a-47c1-9803-471303a4bc4e",
   "metadata": {},
   "source": [
    "### Read PDF files"
   ]
  },
  {
   "cell_type": "code",
   "execution_count": 8,
   "id": "82c2a10f-d820-451e-8e00-b7168d0e7808",
   "metadata": {},
   "outputs": [
    {
     "name": "stdout",
     "output_type": "stream",
     "text": [
      "boto3 version: 1.34.14\n"
     ]
    }
   ],
   "source": [
    "import boto3\n",
    "\n",
    "print(f\"boto3 version: {boto3.__version__}\")\n",
    "\n",
    "# bucket_name=\"scivias-medreports\"\n",
    "session = boto3.session.Session(\n",
    "    aws_access_key_id = os.environ.get('AWS_ACCESS_KEY_ID'),\n",
    "    aws_secret_access_key = os.environ.get('AWS_SECRET_ACCESS_KEY')\n",
    ")\n",
    "#s3 = session.resource('s3', endpoint_url = os.environ.get('S3_ENDPOINT'))\n",
    "s3 = session.resource('s3', endpoint_url = os.environ.get('S3_ENDPOINT'), verify=VERIFY_HOST)\n",
    "bucket = s3.Bucket(BUCKET_NAME)"
   ]
  },
  {
   "cell_type": "code",
   "execution_count": 9,
   "id": "5a3cbed8-6a76-4bd4-a292-61efbf45277c",
   "metadata": {},
   "outputs": [],
   "source": [
    "# pattern=\"KK-SCIVIAS-*.pdf\"\n",
    "file_prefix=\"KK-SCIVIAS\"\n",
    "\n",
    "prefix = f\"{file_prefix}\"\n",
    "\n",
    "batch_max  = 2\n",
    "# for obj in bucket.objects.filter\n",
    "bucket_items = []\n",
    "for obj in bucket.objects.filter(Prefix=prefix):\n",
    "    bucket_items.append(obj.key)\n",
    "    # print(obj)"
   ]
  },
  {
   "cell_type": "code",
   "execution_count": 10,
   "id": "a17741b4-0c9a-4eea-8b46-9719c176a449",
   "metadata": {},
   "outputs": [
    {
     "data": {
      "text/plain": [
       "800"
      ]
     },
     "execution_count": 10,
     "metadata": {},
     "output_type": "execute_result"
    }
   ],
   "source": [
    "len(bucket_items)"
   ]
  },
  {
   "cell_type": "code",
   "execution_count": 11,
   "id": "1fff06e1-c56e-4fd4-9f5b-c1af927d90ed",
   "metadata": {},
   "outputs": [],
   "source": [
    "# bucket_items[0]"
   ]
  },
  {
   "cell_type": "code",
   "execution_count": 12,
   "id": "62591b7d-2968-42db-bf7b-17ff581edb8f",
   "metadata": {},
   "outputs": [],
   "source": [
    "from io import BytesIO\n",
    "from pypdf import PdfReader"
   ]
  },
  {
   "cell_type": "code",
   "execution_count": 13,
   "id": "9126eadd-be65-49c1-9215-54e43d31550e",
   "metadata": {},
   "outputs": [],
   "source": [
    "idx = 0\n",
    "item = bucket_items[idx]"
   ]
  },
  {
   "cell_type": "code",
   "execution_count": 14,
   "id": "acb60d3c-03b5-4e1f-a0c1-b05853a10b89",
   "metadata": {},
   "outputs": [],
   "source": [
    "obj = s3.Object(BUCKET_NAME, item)"
   ]
  },
  {
   "cell_type": "code",
   "execution_count": 15,
   "id": "442a00a5-fb5d-400e-bd61-da6dc3e29ab9",
   "metadata": {},
   "outputs": [],
   "source": [
    "fs = obj.get()['Body'].read()"
   ]
  },
  {
   "cell_type": "code",
   "execution_count": 16,
   "id": "724fa0f5-f5a6-45ac-8ab2-c913bad8bee6",
   "metadata": {},
   "outputs": [
    {
     "data": {
      "text/plain": [
       "bytes"
      ]
     },
     "execution_count": 16,
     "metadata": {},
     "output_type": "execute_result"
    }
   ],
   "source": [
    "type(fs)"
   ]
  },
  {
   "cell_type": "code",
   "execution_count": 17,
   "id": "d468217c-571c-44eb-bc09-3f6c87975ad5",
   "metadata": {},
   "outputs": [],
   "source": [
    "reader = PdfReader(BytesIO(fs))"
   ]
  },
  {
   "cell_type": "code",
   "execution_count": 18,
   "id": "f5730bd6-fd6e-464a-abdf-2c727950ad32",
   "metadata": {},
   "outputs": [],
   "source": [
    "content_raw_str = \"\".join([page.extract_text() for page in reader.pages])"
   ]
  },
  {
   "cell_type": "code",
   "execution_count": 19,
   "id": "9a2aadc9-81a9-4a35-82fe-e5e9144765a7",
   "metadata": {},
   "outputs": [
    {
     "data": {
      "text/plain": [
       "7611"
      ]
     },
     "execution_count": 19,
     "metadata": {},
     "output_type": "execute_result"
    }
   ],
   "source": [
    "len(content_raw_str)"
   ]
  },
  {
   "cell_type": "code",
   "execution_count": null,
   "id": "ef911deb-1195-4b7f-a1fd-5afb5eff3509",
   "metadata": {},
   "outputs": [],
   "source": []
  }
 ],
 "metadata": {
  "kernelspec": {
   "display_name": "Python 3 (ipykernel)",
   "language": "python",
   "name": "python3"
  },
  "language_info": {
   "codemirror_mode": {
    "name": "ipython",
    "version": 3
   },
   "file_extension": ".py",
   "mimetype": "text/x-python",
   "name": "python",
   "nbconvert_exporter": "python",
   "pygments_lexer": "ipython3",
   "version": "3.8.10"
  }
 },
 "nbformat": 4,
 "nbformat_minor": 5
}
