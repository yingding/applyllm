{
 "cells": [
  {
   "cell_type": "markdown",
   "id": "b80b5e04-2584-4ee1-9f57-cca4f2915b33",
   "metadata": {},
   "source": [
    "# Introduction\n",
    "\n",
    "Auther: Yingding Wang\\\n",
    "Created: 15.11.2023\n",
    "\n",
    "this notebook introduces load a pdf file from s3 bucket with boto3 and ByteIO stream with `pypdf.PdfReader`.\n",
    "\n",
    "* Boto3 client doc: https://boto3.amazonaws.com/v1/documentation/api/latest/reference/services/s3.html#S3.Client.list_objects\n",
    "* S3 bucket doesn't have folder, but prefix https://stackoverflow.com/questions/51303609/python-recursive-glob-in-s3/51303951#51303951\n",
    "* Boto3 latest pypi version https://pypi.org/project/boto3/\n",
    "\n",
    "### show ENV variables of the pod\n",
    "```python\n",
    "import os\n",
    "print(os.environ)\n",
    "```\n",
    "or\n",
    "```\n",
    "!env\n",
    "```\n",
    "\n",
    "### PdfReader with BytesIO\n",
    "* https://stackoverflow.com/questions/48373967/issue-with-pypdf2-and-decoding-pdf-file-from-s3\n",
    "\n"
   ]
  },
  {
   "cell_type": "code",
   "execution_count": 1,
   "id": "c69b1794-b45a-462b-aa1d-6c7ad4dfe1d5",
   "metadata": {},
   "outputs": [],
   "source": [
    "import sys"
   ]
  },
  {
   "cell_type": "code",
   "execution_count": 2,
   "id": "f7e09db4-e74a-4dc3-802a-bc1d93cdee10",
   "metadata": {},
   "outputs": [],
   "source": [
    "# Installing collected packages: jmespath, botocore, s3transfer, boto3\n",
    "# !{sys.executable} -m pip install --user --upgrade boto3==1.29.0"
   ]
  },
  {
   "cell_type": "code",
   "execution_count": 12,
   "id": "82c2a10f-d820-451e-8e00-b7168d0e7808",
   "metadata": {},
   "outputs": [],
   "source": [
    "import os\n",
    "import boto3\n",
    "bucket_name=\"scivias-medreports\"\n",
    "session = boto3.session.Session(\n",
    "    aws_access_key_id = os.environ.get('AWS_ACCESS_KEY_ID'),\n",
    "    aws_secret_access_key = os.environ.get('AWS_SECRET_ACCESS_KEY')\n",
    ")\n",
    "#s3 = session.resource('s3', endpoint_url = os.environ.get('S3_ENDPOINT'), verify=False)\n",
    "s3 = session.resource('s3', endpoint_url = os.environ.get('S3_ENDPOINT'))\n",
    "bucket = s3.Bucket(bucket_name)"
   ]
  },
  {
   "cell_type": "code",
   "execution_count": 16,
   "id": "23acda32-e530-4ea8-9459-4aa4245805bb",
   "metadata": {},
   "outputs": [],
   "source": [
    "#type(s3)"
   ]
  },
  {
   "cell_type": "code",
   "execution_count": 4,
   "id": "a43bba07-a541-4b77-8d4e-c9d268f8e9a0",
   "metadata": {},
   "outputs": [],
   "source": [
    "#bucket_items = []\n",
    "#for obj in bucket.objects.all():\n",
    "#    bucket_items.append(obj.key)\n",
    "#    # print(obj)"
   ]
  },
  {
   "cell_type": "code",
   "execution_count": 5,
   "id": "5c40fa1a-c755-464e-83ba-9b3e75a57efa",
   "metadata": {},
   "outputs": [
    {
     "data": {
      "text/plain": [
       "s3.Bucket.objectsCollection(s3.Bucket(name='scivias-medreports'), s3.ObjectSummary)"
      ]
     },
     "execution_count": 5,
     "metadata": {},
     "output_type": "execute_result"
    }
   ],
   "source": [
    "bucket.objects.filter(Prefix=\"KK-SCIVIAS\")"
   ]
  },
  {
   "cell_type": "markdown",
   "id": "33c31ace-e2f0-4a7d-adc8-6f1583edcb69",
   "metadata": {},
   "source": [
    "## s3 has no regex ListObjects\n",
    "\n",
    "s3 list objects with prefix only\n",
    "https://stackoverflow.com/questions/62379936/searching-for-keys-in-a-s3-bucket-with-prefix-suffix-or-regex\n"
   ]
  },
  {
   "cell_type": "code",
   "execution_count": 6,
   "id": "b62827aa-4543-454e-8146-aeb51c3b6bf1",
   "metadata": {},
   "outputs": [],
   "source": [
    "# pattern=\"KK-SCIVIAS-*.pdf\"\n",
    "prefix=\"KK-SCIVIAS\"\n",
    "batch_max  = 2\n",
    "# for obj in bucket.objects.filter\n",
    "bucket_items = []\n",
    "for obj in bucket.objects.filter(Prefix=prefix):\n",
    "    bucket_items.append(obj.key)\n",
    "    # print(obj)"
   ]
  },
  {
   "cell_type": "code",
   "execution_count": 9,
   "id": "a17741b4-0c9a-4eea-8b46-9719c176a449",
   "metadata": {},
   "outputs": [
    {
     "data": {
      "text/plain": [
       "243"
      ]
     },
     "execution_count": 9,
     "metadata": {},
     "output_type": "execute_result"
    }
   ],
   "source": [
    "len(bucket_items)"
   ]
  },
  {
   "cell_type": "code",
   "execution_count": 7,
   "id": "62591b7d-2968-42db-bf7b-17ff581edb8f",
   "metadata": {},
   "outputs": [],
   "source": [
    "from io import BytesIO\n",
    "from pypdf import PdfReader"
   ]
  },
  {
   "cell_type": "code",
   "execution_count": 8,
   "id": "9126eadd-be65-49c1-9215-54e43d31550e",
   "metadata": {},
   "outputs": [],
   "source": [
    "idx = 0\n",
    "item = bucket_items[idx]"
   ]
  },
  {
   "cell_type": "code",
   "execution_count": 9,
   "id": "acb60d3c-03b5-4e1f-a0c1-b05853a10b89",
   "metadata": {},
   "outputs": [],
   "source": [
    "obj = s3.Object(bucket_name, item)"
   ]
  },
  {
   "cell_type": "code",
   "execution_count": 10,
   "id": "442a00a5-fb5d-400e-bd61-da6dc3e29ab9",
   "metadata": {},
   "outputs": [],
   "source": [
    "fs = obj.get()['Body'].read()"
   ]
  },
  {
   "cell_type": "code",
   "execution_count": 11,
   "id": "724fa0f5-f5a6-45ac-8ab2-c913bad8bee6",
   "metadata": {},
   "outputs": [
    {
     "data": {
      "text/plain": [
       "bytes"
      ]
     },
     "execution_count": 11,
     "metadata": {},
     "output_type": "execute_result"
    }
   ],
   "source": [
    "type(fs)"
   ]
  },
  {
   "cell_type": "code",
   "execution_count": 14,
   "id": "d468217c-571c-44eb-bc09-3f6c87975ad5",
   "metadata": {},
   "outputs": [],
   "source": [
    "reader = PdfReader(BytesIO(fs))"
   ]
  },
  {
   "cell_type": "code",
   "execution_count": 15,
   "id": "f5730bd6-fd6e-464a-abdf-2c727950ad32",
   "metadata": {},
   "outputs": [],
   "source": [
    "content_raw_str = \"\".join([page.extract_text() for page in reader.pages])"
   ]
  },
  {
   "cell_type": "code",
   "execution_count": 16,
   "id": "9a2aadc9-81a9-4a35-82fe-e5e9144765a7",
   "metadata": {},
   "outputs": [
    {
     "data": {
      "text/plain": [
       "7611"
      ]
     },
     "execution_count": 16,
     "metadata": {},
     "output_type": "execute_result"
    }
   ],
   "source": [
    "len(content_raw_str)"
   ]
  }
 ],
 "metadata": {
  "kernelspec": {
   "display_name": "Python 3 (ipykernel)",
   "language": "python",
   "name": "python3"
  },
  "language_info": {
   "codemirror_mode": {
    "name": "ipython",
    "version": 3
   },
   "file_extension": ".py",
   "mimetype": "text/x-python",
   "name": "python",
   "nbconvert_exporter": "python",
   "pygments_lexer": "ipython3",
   "version": "3.8.10"
  }
 },
 "nbformat": 4,
 "nbformat_minor": 5
}
